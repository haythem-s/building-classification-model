{
 "cells": [
  {
   "cell_type": "markdown",
   "metadata": {
    "id": "bKC2VZJNok52"
   },
   "source": [
    "<h1 align='center'>Build and Evaluate a Classification Model</h1>\n",
    "\n",
    "In this notebook we will build classification models using the decision trees and logistic regression algorithms and choose the best one.\n"
   ]
  },
  {
   "cell_type": "markdown",
   "metadata": {
    "id": "QzVL2k35ok56"
   },
   "source": [
    "## The process of training a model\n",
    "\n",
    "![Model Training Process](https://user.oc-static.com/upload/2019/10/01/15699222528661_proces1.png)"
   ]
  },
  {
   "cell_type": "markdown",
   "metadata": {
    "id": "Amuw_79Zok57"
   },
   "source": [
    "## Import the libraries\n"
   ]
  },
  {
   "cell_type": "code",
   "execution_count": 1,
   "metadata": {
    "id": "cr7xp-b8ok58"
   },
   "outputs": [],
   "source": [
    "# Core libraries\n",
    "import pandas as pd\n",
    "import numpy as np\n",
    "import matplotlib.pyplot as plt\n",
    "import seaborn as sns\n",
    "\n",
    "# Sklearn functionality\n",
    "\n",
    "from sklearn.preprocessing import MinMaxScaler\n",
    "from sklearn.model_selection import train_test_split\n",
    "from sklearn.tree import DecisionTreeClassifier\n",
    "from sklearn.linear_model import LogisticRegression\n",
    "\n",
    "from sklearn.metrics import accuracy_score\n",
    "from sklearn import tree"
   ]
  },
  {
   "cell_type": "markdown",
   "metadata": {
    "id": "3QBJFpr6ok5-"
   },
   "source": [
    "# Define the task\n",
    "\n",
    "> Make predictions about a country's life expectancy (L/M/H bands) from a set of metrics for the country."
   ]
  },
  {
   "cell_type": "markdown",
   "metadata": {
    "id": "7kI7fuC3ok5-"
   },
   "source": [
    "# Acquire clean data\n",
    "\n",
    "## About the dataset\n",
    "The dataset used in this notebook is a selected and preprocessed subset from the original datasets provided by [World Bank](https://worldhappiness.report/), [Gapminder](https://www.gapminder.org/data/) and the [World Happiness Report](https://www.worldbank.org/).\n",
    "\n",
    "When doing any machine learning task, it is important to understand as much about the meaning of the data as possible. Here are the descriptions of the columns from the respective sources:\n",
    "\n",
    "* **Country:** Country name.\n",
    "\n",
    "* **Happiness:** The national average response to the question: “Please imagine a ladder, with steps numbered from 0 at the bottom to 10 at the top. The top of the ladder represents the best possible life for you and the bottom of the ladder represents the worst possible life for you. On which step of the ladder would you say you personally feel you stand at this time?”\n",
    "\n",
    "* **Income:** Gross domestic product per person adjusted for differences in purchasing power (in international dollars, fixed 2011 prices, PPP based on 2011 ICP).\n",
    "\n",
    "* **Lifeexp:** The average number of years a newborn child would live if current mortality patterns were to stay the same.\n",
    "\n",
    "* **Sanitation:** The percentage of people using at least basic sanitation services, that is, improved sanitation facilities that are not shared with other households.\n",
    "\n",
    "* **Water:** The percentage of people with at least basic water services.\n",
    "\n",
    "* **Urbanpopulation:** Urban population refers to people living in urban areas as defined by national statistical offices.\n",
    "\n",
    "* **Unemployment:** Percentage of total population that has been registered as long-term unemployed during the given year.\n",
    "\n",
    "* **Literacy:** Adult literacy rate is the percentage of people ages 15 and above who can clearly read and write a short, simple statement on their everyday life.\n",
    "\n",
    "* **Inequality:** Gini income inequality in a society. A higher number means more inequality.\n",
    "\n",
    "* **Murder:** Mortality due to interpersonal violence, per 100,000 standard population, age adjusted. This rate is calculated as if all countries had the same age composition of the population.\n",
    "\n",
    "* **Energy:** Energy use refers to use of primary energy before transformation to other end-use fuels, which is equal to indigenous production plus imports and stock changes, minus exports and fuels supplied to ships and aircraft engaged in international transport.\n",
    "\n",
    "* **Childmortality:** Death of children under five years of age per 1,000 live births.\n",
    "\n",
    "* **Fertility:** Total fertility rate. The number of children that would be born to each woman with prevailing age-specific fertility rates.\n",
    "\n",
    "* **HIV:** The total number of persons of all ages estimated to be infected by HIV, including those without symptoms, those sick from AIDS, and those healthy due to treatment of the HIV infection.\n",
    "\n",
    "* **Foodsupply:** Calories measures the energy content of the food. The required intake varies, but it is normally in the range of 1500-3000 kilocalories per day. One banana contains approximately 100 kilocalories.\n",
    "\n",
    "* **Populationtotal:** Total population.\n",
    "\n",
    "## Load the data\n",
    "We will load our data."
   ]
  },
  {
   "cell_type": "code",
   "execution_count": 2,
   "metadata": {
    "id": "h87ZCyZNxgNQ"
   },
   "outputs": [],
   "source": [
    "# Load the data set\n",
    "dataset = pd.read_csv(\"world_data.csv\")"
   ]
  },
  {
   "cell_type": "markdown",
   "metadata": {
    "id": "5gplqRPCok6Q"
   },
   "source": [
    "## Inspect the data"
   ]
  },
  {
   "cell_type": "markdown",
   "metadata": {
    "id": "9jC5Xf95ok6Q"
   },
   "source": [
    "Identify the number of features (columns) and samples (rows)"
   ]
  },
  {
   "cell_type": "code",
   "execution_count": 3,
   "metadata": {
    "colab": {
     "base_uri": "https://localhost:8080/"
    },
    "id": "T2j1sO_Uok6R",
    "outputId": "f3dc4f52-ab69-4741-deb0-e2b65f364762"
   },
   "outputs": [
    {
     "data": {
      "text/plain": [
       "(194, 17)"
      ]
     },
     "execution_count": 3,
     "metadata": {},
     "output_type": "execute_result"
    }
   ],
   "source": [
    "# Examine the date shape\n",
    "dataset.shape"
   ]
  },
  {
   "cell_type": "markdown",
   "metadata": {
    "id": "-Ah7fbWxok6R"
   },
   "source": [
    "Take a quick look at the data to understand what you are dealing with."
   ]
  },
  {
   "cell_type": "code",
   "execution_count": 4,
   "metadata": {
    "colab": {
     "base_uri": "https://localhost:8080/",
     "height": 226
    },
    "id": "BZRN1U51ok6S",
    "outputId": "1bd48c88-d309-4aca-f27c-718380a945e2"
   },
   "outputs": [
    {
     "data": {
      "text/html": [
       "<div>\n",
       "<style scoped>\n",
       "    .dataframe tbody tr th:only-of-type {\n",
       "        vertical-align: middle;\n",
       "    }\n",
       "\n",
       "    .dataframe tbody tr th {\n",
       "        vertical-align: top;\n",
       "    }\n",
       "\n",
       "    .dataframe thead th {\n",
       "        text-align: right;\n",
       "    }\n",
       "</style>\n",
       "<table border=\"1\" class=\"dataframe\">\n",
       "  <thead>\n",
       "    <tr style=\"text-align: right;\">\n",
       "      <th></th>\n",
       "      <th>country</th>\n",
       "      <th>happiness</th>\n",
       "      <th>income</th>\n",
       "      <th>lifeexp</th>\n",
       "      <th>sanitation</th>\n",
       "      <th>water</th>\n",
       "      <th>urbanpopulation</th>\n",
       "      <th>unemployment</th>\n",
       "      <th>literacy</th>\n",
       "      <th>inequality</th>\n",
       "      <th>murder</th>\n",
       "      <th>energy</th>\n",
       "      <th>childmortality</th>\n",
       "      <th>fertility</th>\n",
       "      <th>hiv</th>\n",
       "      <th>foodsupply</th>\n",
       "      <th>population</th>\n",
       "    </tr>\n",
       "  </thead>\n",
       "  <tbody>\n",
       "    <tr>\n",
       "      <th>0</th>\n",
       "      <td>Afghanistan</td>\n",
       "      <td>3.982855</td>\n",
       "      <td>1750.0</td>\n",
       "      <td>57.9</td>\n",
       "      <td>39.2</td>\n",
       "      <td>63.0</td>\n",
       "      <td>11.0</td>\n",
       "      <td>NaN</td>\n",
       "      <td>39.0</td>\n",
       "      <td>NaN</td>\n",
       "      <td>NaN</td>\n",
       "      <td>NaN</td>\n",
       "      <td>73.2</td>\n",
       "      <td>4.80</td>\n",
       "      <td>5800.0</td>\n",
       "      <td>2090.0</td>\n",
       "      <td>33700000</td>\n",
       "    </tr>\n",
       "    <tr>\n",
       "      <th>1</th>\n",
       "      <td>Albania</td>\n",
       "      <td>4.606651</td>\n",
       "      <td>11000.0</td>\n",
       "      <td>77.6</td>\n",
       "      <td>97.7</td>\n",
       "      <td>91.4</td>\n",
       "      <td>NaN</td>\n",
       "      <td>6.090</td>\n",
       "      <td>96.8</td>\n",
       "      <td>29.0</td>\n",
       "      <td>2.30</td>\n",
       "      <td>808.0</td>\n",
       "      <td>14.0</td>\n",
       "      <td>1.71</td>\n",
       "      <td>NaN</td>\n",
       "      <td>3190.0</td>\n",
       "      <td>2920000</td>\n",
       "    </tr>\n",
       "    <tr>\n",
       "      <th>2</th>\n",
       "      <td>Argentina</td>\n",
       "      <td>6.697131</td>\n",
       "      <td>19100.0</td>\n",
       "      <td>76.5</td>\n",
       "      <td>94.8</td>\n",
       "      <td>99.6</td>\n",
       "      <td>43.1</td>\n",
       "      <td>0.856</td>\n",
       "      <td>97.9</td>\n",
       "      <td>41.4</td>\n",
       "      <td>4.65</td>\n",
       "      <td>2020.0</td>\n",
       "      <td>11.6</td>\n",
       "      <td>2.31</td>\n",
       "      <td>95000.0</td>\n",
       "      <td>3230.0</td>\n",
       "      <td>43400000</td>\n",
       "    </tr>\n",
       "    <tr>\n",
       "      <th>3</th>\n",
       "      <td>Armenia</td>\n",
       "      <td>4.348320</td>\n",
       "      <td>8180.0</td>\n",
       "      <td>75.4</td>\n",
       "      <td>91.6</td>\n",
       "      <td>98.9</td>\n",
       "      <td>36.7</td>\n",
       "      <td>7.110</td>\n",
       "      <td>99.6</td>\n",
       "      <td>32.4</td>\n",
       "      <td>1.12</td>\n",
       "      <td>1020.0</td>\n",
       "      <td>14.0</td>\n",
       "      <td>1.66</td>\n",
       "      <td>3600.0</td>\n",
       "      <td>2930.0</td>\n",
       "      <td>2920000</td>\n",
       "    </tr>\n",
       "    <tr>\n",
       "      <th>4</th>\n",
       "      <td>Australia</td>\n",
       "      <td>7.309061</td>\n",
       "      <td>43800.0</td>\n",
       "      <td>82.6</td>\n",
       "      <td>100.0</td>\n",
       "      <td>100.0</td>\n",
       "      <td>60.2</td>\n",
       "      <td>1.240</td>\n",
       "      <td>NaN</td>\n",
       "      <td>34.7</td>\n",
       "      <td>1.11</td>\n",
       "      <td>5480.0</td>\n",
       "      <td>3.8</td>\n",
       "      <td>1.86</td>\n",
       "      <td>22000.0</td>\n",
       "      <td>3280.0</td>\n",
       "      <td>23800000</td>\n",
       "    </tr>\n",
       "  </tbody>\n",
       "</table>\n",
       "</div>"
      ],
      "text/plain": [
       "       country  happiness   income  lifeexp  sanitation  water  \\\n",
       "0  Afghanistan   3.982855   1750.0     57.9        39.2   63.0   \n",
       "1      Albania   4.606651  11000.0     77.6        97.7   91.4   \n",
       "2    Argentina   6.697131  19100.0     76.5        94.8   99.6   \n",
       "3      Armenia   4.348320   8180.0     75.4        91.6   98.9   \n",
       "4    Australia   7.309061  43800.0     82.6       100.0  100.0   \n",
       "\n",
       "   urbanpopulation  unemployment  literacy  inequality  murder  energy  \\\n",
       "0             11.0           NaN      39.0         NaN     NaN     NaN   \n",
       "1              NaN         6.090      96.8        29.0    2.30   808.0   \n",
       "2             43.1         0.856      97.9        41.4    4.65  2020.0   \n",
       "3             36.7         7.110      99.6        32.4    1.12  1020.0   \n",
       "4             60.2         1.240       NaN        34.7    1.11  5480.0   \n",
       "\n",
       "   childmortality  fertility      hiv  foodsupply  population  \n",
       "0            73.2       4.80   5800.0      2090.0    33700000  \n",
       "1            14.0       1.71      NaN      3190.0     2920000  \n",
       "2            11.6       2.31  95000.0      3230.0    43400000  \n",
       "3            14.0       1.66   3600.0      2930.0     2920000  \n",
       "4             3.8       1.86  22000.0      3280.0    23800000  "
      ]
     },
     "execution_count": 4,
     "metadata": {},
     "output_type": "execute_result"
    }
   ],
   "source": [
    "# Inspect first few rows\n",
    "dataset.head()"
   ]
  },
  {
   "cell_type": "code",
   "execution_count": 5,
   "metadata": {
    "colab": {
     "base_uri": "https://localhost:8080/",
     "height": 101
    },
    "id": "V7PQRLMDQz_p",
    "outputId": "ed19b2cd-5cab-482d-d76b-aca4a72ca6c2"
   },
   "outputs": [
    {
     "data": {
      "text/html": [
       "<div>\n",
       "<style scoped>\n",
       "    .dataframe tbody tr th:only-of-type {\n",
       "        vertical-align: middle;\n",
       "    }\n",
       "\n",
       "    .dataframe tbody tr th {\n",
       "        vertical-align: top;\n",
       "    }\n",
       "\n",
       "    .dataframe thead th {\n",
       "        text-align: right;\n",
       "    }\n",
       "</style>\n",
       "<table border=\"1\" class=\"dataframe\">\n",
       "  <thead>\n",
       "    <tr style=\"text-align: right;\">\n",
       "      <th></th>\n",
       "      <th>country</th>\n",
       "      <th>happiness</th>\n",
       "      <th>income</th>\n",
       "      <th>lifeexp</th>\n",
       "      <th>sanitation</th>\n",
       "      <th>water</th>\n",
       "      <th>urbanpopulation</th>\n",
       "      <th>unemployment</th>\n",
       "      <th>literacy</th>\n",
       "      <th>inequality</th>\n",
       "      <th>murder</th>\n",
       "      <th>energy</th>\n",
       "      <th>childmortality</th>\n",
       "      <th>fertility</th>\n",
       "      <th>hiv</th>\n",
       "      <th>foodsupply</th>\n",
       "      <th>population</th>\n",
       "    </tr>\n",
       "  </thead>\n",
       "  <tbody>\n",
       "    <tr>\n",
       "      <th>101</th>\n",
       "      <td>Qatar</td>\n",
       "      <td>6.374529</td>\n",
       "      <td>120000.0</td>\n",
       "      <td>80.5</td>\n",
       "      <td>100.0</td>\n",
       "      <td>100.0</td>\n",
       "      <td>NaN</td>\n",
       "      <td>0.0676</td>\n",
       "      <td>96.3</td>\n",
       "      <td>NaN</td>\n",
       "      <td>1.09</td>\n",
       "      <td>18600.0</td>\n",
       "      <td>8.6</td>\n",
       "      <td>1.93</td>\n",
       "      <td>NaN</td>\n",
       "      <td>NaN</td>\n",
       "      <td>2480000</td>\n",
       "    </tr>\n",
       "  </tbody>\n",
       "</table>\n",
       "</div>"
      ],
      "text/plain": [
       "    country  happiness    income  lifeexp  sanitation  water  urbanpopulation  \\\n",
       "101   Qatar   6.374529  120000.0     80.5       100.0  100.0              NaN   \n",
       "\n",
       "     unemployment  literacy  inequality  murder   energy  childmortality  \\\n",
       "101        0.0676      96.3         NaN    1.09  18600.0             8.6   \n",
       "\n",
       "     fertility  hiv  foodsupply  population  \n",
       "101       1.93  NaN         NaN     2480000  "
      ]
     },
     "execution_count": 5,
     "metadata": {},
     "output_type": "execute_result"
    }
   ],
   "source": [
    "dataset[dataset['energy'] == dataset['energy'].max()]"
   ]
  },
  {
   "cell_type": "code",
   "execution_count": 6,
   "metadata": {
    "colab": {
     "base_uri": "https://localhost:8080/",
     "height": 101
    },
    "id": "70kC6mVNQcgb",
    "outputId": "193caff7-5be5-43fc-83a1-4c61af223bd6"
   },
   "outputs": [
    {
     "data": {
      "text/html": [
       "<div>\n",
       "<style scoped>\n",
       "    .dataframe tbody tr th:only-of-type {\n",
       "        vertical-align: middle;\n",
       "    }\n",
       "\n",
       "    .dataframe tbody tr th {\n",
       "        vertical-align: top;\n",
       "    }\n",
       "\n",
       "    .dataframe thead th {\n",
       "        text-align: right;\n",
       "    }\n",
       "</style>\n",
       "<table border=\"1\" class=\"dataframe\">\n",
       "  <thead>\n",
       "    <tr style=\"text-align: right;\">\n",
       "      <th></th>\n",
       "      <th>country</th>\n",
       "      <th>happiness</th>\n",
       "      <th>income</th>\n",
       "      <th>lifeexp</th>\n",
       "      <th>sanitation</th>\n",
       "      <th>water</th>\n",
       "      <th>urbanpopulation</th>\n",
       "      <th>unemployment</th>\n",
       "      <th>literacy</th>\n",
       "      <th>inequality</th>\n",
       "      <th>murder</th>\n",
       "      <th>energy</th>\n",
       "      <th>childmortality</th>\n",
       "      <th>fertility</th>\n",
       "      <th>hiv</th>\n",
       "      <th>foodsupply</th>\n",
       "      <th>population</th>\n",
       "    </tr>\n",
       "  </thead>\n",
       "  <tbody>\n",
       "    <tr>\n",
       "      <th>92</th>\n",
       "      <td>Norway</td>\n",
       "      <td>7.603434</td>\n",
       "      <td>63700.0</td>\n",
       "      <td>82.1</td>\n",
       "      <td>98.1</td>\n",
       "      <td>100.0</td>\n",
       "      <td>18.7</td>\n",
       "      <td>0.812</td>\n",
       "      <td>NaN</td>\n",
       "      <td>27.5</td>\n",
       "      <td>0.389</td>\n",
       "      <td>5820.0</td>\n",
       "      <td>2.7</td>\n",
       "      <td>1.84</td>\n",
       "      <td>4500.0</td>\n",
       "      <td>3490.0</td>\n",
       "      <td>5200000</td>\n",
       "    </tr>\n",
       "  </tbody>\n",
       "</table>\n",
       "</div>"
      ],
      "text/plain": [
       "   country  happiness   income  lifeexp  sanitation  water  urbanpopulation  \\\n",
       "92  Norway   7.603434  63700.0     82.1        98.1  100.0             18.7   \n",
       "\n",
       "    unemployment  literacy  inequality  murder  energy  childmortality  \\\n",
       "92         0.812       NaN        27.5   0.389  5820.0             2.7   \n",
       "\n",
       "    fertility     hiv  foodsupply  population  \n",
       "92       1.84  4500.0      3490.0     5200000  "
      ]
     },
     "execution_count": 6,
     "metadata": {},
     "output_type": "execute_result"
    }
   ],
   "source": [
    "dataset[dataset['happiness'] == dataset['happiness'].max()]"
   ]
  },
  {
   "cell_type": "code",
   "execution_count": 7,
   "metadata": {
    "colab": {
     "base_uri": "https://localhost:8080/"
    },
    "id": "uc-lN6a8ZCkA",
    "outputId": "9ecfa0f1-331e-4cb3-92ea-d2e8e1a76ffc"
   },
   "outputs": [
    {
     "data": {
      "text/plain": [
       "217991.677852349"
      ]
     },
     "execution_count": 7,
     "metadata": {},
     "output_type": "execute_result"
    }
   ],
   "source": [
    "dataset['hiv'].mean()"
   ]
  },
  {
   "cell_type": "code",
   "execution_count": 8,
   "metadata": {
    "id": "0NoG1fYzVlaK"
   },
   "outputs": [
    {
     "data": {
      "text/html": [
       "<div>\n",
       "<style scoped>\n",
       "    .dataframe tbody tr th:only-of-type {\n",
       "        vertical-align: middle;\n",
       "    }\n",
       "\n",
       "    .dataframe tbody tr th {\n",
       "        vertical-align: top;\n",
       "    }\n",
       "\n",
       "    .dataframe thead th {\n",
       "        text-align: right;\n",
       "    }\n",
       "</style>\n",
       "<table border=\"1\" class=\"dataframe\">\n",
       "  <thead>\n",
       "    <tr style=\"text-align: right;\">\n",
       "      <th></th>\n",
       "      <th>country</th>\n",
       "      <th>happiness</th>\n",
       "      <th>income</th>\n",
       "      <th>lifeexp</th>\n",
       "      <th>sanitation</th>\n",
       "      <th>water</th>\n",
       "      <th>urbanpopulation</th>\n",
       "      <th>unemployment</th>\n",
       "      <th>literacy</th>\n",
       "      <th>inequality</th>\n",
       "      <th>murder</th>\n",
       "      <th>energy</th>\n",
       "      <th>childmortality</th>\n",
       "      <th>fertility</th>\n",
       "      <th>hiv</th>\n",
       "      <th>foodsupply</th>\n",
       "      <th>population</th>\n",
       "    </tr>\n",
       "  </thead>\n",
       "  <tbody>\n",
       "    <tr>\n",
       "      <th>15</th>\n",
       "      <td>Botswana</td>\n",
       "      <td>3.761965</td>\n",
       "      <td>15400.0</td>\n",
       "      <td>64.6</td>\n",
       "      <td>60.00</td>\n",
       "      <td>79.2</td>\n",
       "      <td>NaN</td>\n",
       "      <td>NaN</td>\n",
       "      <td>85.1</td>\n",
       "      <td>60.5</td>\n",
       "      <td>NaN</td>\n",
       "      <td>1250.00</td>\n",
       "      <td>42.1</td>\n",
       "      <td>2.77</td>\n",
       "      <td>300000.0</td>\n",
       "      <td>2330.0</td>\n",
       "      <td>2210000</td>\n",
       "    </tr>\n",
       "    <tr>\n",
       "      <th>16</th>\n",
       "      <td>Brazil</td>\n",
       "      <td>6.546897</td>\n",
       "      <td>14700.0</td>\n",
       "      <td>75.2</td>\n",
       "      <td>86.10</td>\n",
       "      <td>97.5</td>\n",
       "      <td>40.90</td>\n",
       "      <td>NaN</td>\n",
       "      <td>90.4</td>\n",
       "      <td>51.3</td>\n",
       "      <td>15.70</td>\n",
       "      <td>1480.00</td>\n",
       "      <td>15.7</td>\n",
       "      <td>1.74</td>\n",
       "      <td>490000.0</td>\n",
       "      <td>3260.0</td>\n",
       "      <td>206000000</td>\n",
       "    </tr>\n",
       "    <tr>\n",
       "      <th>20</th>\n",
       "      <td>Cameroon</td>\n",
       "      <td>5.037965</td>\n",
       "      <td>2990.0</td>\n",
       "      <td>59.7</td>\n",
       "      <td>38.80</td>\n",
       "      <td>65.3</td>\n",
       "      <td>26.60</td>\n",
       "      <td>1.2200</td>\n",
       "      <td>71.3</td>\n",
       "      <td>46.6</td>\n",
       "      <td>NaN</td>\n",
       "      <td>342.00</td>\n",
       "      <td>83.3</td>\n",
       "      <td>4.78</td>\n",
       "      <td>550000.0</td>\n",
       "      <td>2670.0</td>\n",
       "      <td>22800000</td>\n",
       "    </tr>\n",
       "    <tr>\n",
       "      <th>24</th>\n",
       "      <td>China</td>\n",
       "      <td>5.303878</td>\n",
       "      <td>13600.0</td>\n",
       "      <td>76.3</td>\n",
       "      <td>75.00</td>\n",
       "      <td>95.8</td>\n",
       "      <td>26.10</td>\n",
       "      <td>NaN</td>\n",
       "      <td>95.1</td>\n",
       "      <td>42.2</td>\n",
       "      <td>NaN</td>\n",
       "      <td>2240.00</td>\n",
       "      <td>10.7</td>\n",
       "      <td>1.62</td>\n",
       "      <td>780000.0</td>\n",
       "      <td>3110.0</td>\n",
       "      <td>1400000000</td>\n",
       "    </tr>\n",
       "    <tr>\n",
       "      <th>38</th>\n",
       "      <td>Ethiopia</td>\n",
       "      <td>4.573155</td>\n",
       "      <td>1530.0</td>\n",
       "      <td>65.2</td>\n",
       "      <td>7.08</td>\n",
       "      <td>39.1</td>\n",
       "      <td>3.88</td>\n",
       "      <td>0.5890</td>\n",
       "      <td>39.0</td>\n",
       "      <td>39.1</td>\n",
       "      <td>NaN</td>\n",
       "      <td>497.00</td>\n",
       "      <td>61.3</td>\n",
       "      <td>4.32</td>\n",
       "      <td>790000.0</td>\n",
       "      <td>2130.0</td>\n",
       "      <td>99900000</td>\n",
       "    </tr>\n",
       "    <tr>\n",
       "      <th>44</th>\n",
       "      <td>Ghana</td>\n",
       "      <td>3.985916</td>\n",
       "      <td>3930.0</td>\n",
       "      <td>65.4</td>\n",
       "      <td>14.30</td>\n",
       "      <td>77.8</td>\n",
       "      <td>17.80</td>\n",
       "      <td>1.4900</td>\n",
       "      <td>71.5</td>\n",
       "      <td>42.4</td>\n",
       "      <td>NaN</td>\n",
       "      <td>335.00</td>\n",
       "      <td>61.0</td>\n",
       "      <td>4.04</td>\n",
       "      <td>230000.0</td>\n",
       "      <td>3020.0</td>\n",
       "      <td>27600000</td>\n",
       "    </tr>\n",
       "    <tr>\n",
       "      <th>52</th>\n",
       "      <td>India</td>\n",
       "      <td>4.342079</td>\n",
       "      <td>5750.0</td>\n",
       "      <td>68.2</td>\n",
       "      <td>44.20</td>\n",
       "      <td>87.6</td>\n",
       "      <td>14.70</td>\n",
       "      <td>NaN</td>\n",
       "      <td>62.8</td>\n",
       "      <td>35.1</td>\n",
       "      <td>NaN</td>\n",
       "      <td>637.00</td>\n",
       "      <td>45.2</td>\n",
       "      <td>2.35</td>\n",
       "      <td>2400000.0</td>\n",
       "      <td>2460.0</td>\n",
       "      <td>1310000000</td>\n",
       "    </tr>\n",
       "    <tr>\n",
       "      <th>53</th>\n",
       "      <td>Indonesia</td>\n",
       "      <td>5.042800</td>\n",
       "      <td>10400.0</td>\n",
       "      <td>71.4</td>\n",
       "      <td>67.90</td>\n",
       "      <td>89.5</td>\n",
       "      <td>13.10</td>\n",
       "      <td>1.2600</td>\n",
       "      <td>92.8</td>\n",
       "      <td>39.5</td>\n",
       "      <td>NaN</td>\n",
       "      <td>884.00</td>\n",
       "      <td>27.3</td>\n",
       "      <td>2.39</td>\n",
       "      <td>380000.0</td>\n",
       "      <td>2780.0</td>\n",
       "      <td>258000000</td>\n",
       "    </tr>\n",
       "    <tr>\n",
       "      <th>59</th>\n",
       "      <td>Cote d'Ivoire</td>\n",
       "      <td>4.445039</td>\n",
       "      <td>3250.0</td>\n",
       "      <td>59.2</td>\n",
       "      <td>29.90</td>\n",
       "      <td>73.1</td>\n",
       "      <td>19.60</td>\n",
       "      <td>NaN</td>\n",
       "      <td>56.9</td>\n",
       "      <td>41.5</td>\n",
       "      <td>NaN</td>\n",
       "      <td>616.00</td>\n",
       "      <td>95.1</td>\n",
       "      <td>4.97</td>\n",
       "      <td>360000.0</td>\n",
       "      <td>2800.0</td>\n",
       "      <td>23100000</td>\n",
       "    </tr>\n",
       "    <tr>\n",
       "      <th>63</th>\n",
       "      <td>Kenya</td>\n",
       "      <td>4.357618</td>\n",
       "      <td>2840.0</td>\n",
       "      <td>66.3</td>\n",
       "      <td>29.80</td>\n",
       "      <td>58.5</td>\n",
       "      <td>10.60</td>\n",
       "      <td>NaN</td>\n",
       "      <td>72.2</td>\n",
       "      <td>40.8</td>\n",
       "      <td>NaN</td>\n",
       "      <td>513.00</td>\n",
       "      <td>51.0</td>\n",
       "      <td>3.92</td>\n",
       "      <td>1600000.0</td>\n",
       "      <td>2210.0</td>\n",
       "      <td>47200000</td>\n",
       "    </tr>\n",
       "    <tr>\n",
       "      <th>74</th>\n",
       "      <td>Malawi</td>\n",
       "      <td>3.867638</td>\n",
       "      <td>1090.0</td>\n",
       "      <td>59.4</td>\n",
       "      <td>43.50</td>\n",
       "      <td>67.2</td>\n",
       "      <td>5.15</td>\n",
       "      <td>1.2200</td>\n",
       "      <td>61.3</td>\n",
       "      <td>45.5</td>\n",
       "      <td>NaN</td>\n",
       "      <td>NaN</td>\n",
       "      <td>59.1</td>\n",
       "      <td>4.65</td>\n",
       "      <td>910000.0</td>\n",
       "      <td>2370.0</td>\n",
       "      <td>17600000</td>\n",
       "    </tr>\n",
       "    <tr>\n",
       "      <th>84</th>\n",
       "      <td>Mozambique</td>\n",
       "      <td>4.549767</td>\n",
       "      <td>1120.0</td>\n",
       "      <td>59.0</td>\n",
       "      <td>23.60</td>\n",
       "      <td>47.3</td>\n",
       "      <td>8.73</td>\n",
       "      <td>NaN</td>\n",
       "      <td>50.6</td>\n",
       "      <td>54.0</td>\n",
       "      <td>NaN</td>\n",
       "      <td>428.00</td>\n",
       "      <td>75.1</td>\n",
       "      <td>5.31</td>\n",
       "      <td>1400000.0</td>\n",
       "      <td>2280.0</td>\n",
       "      <td>28000000</td>\n",
       "    </tr>\n",
       "    <tr>\n",
       "      <th>85</th>\n",
       "      <td>Myanmar</td>\n",
       "      <td>4.223846</td>\n",
       "      <td>5070.0</td>\n",
       "      <td>69.5</td>\n",
       "      <td>64.70</td>\n",
       "      <td>67.5</td>\n",
       "      <td>11.70</td>\n",
       "      <td>0.1240</td>\n",
       "      <td>92.7</td>\n",
       "      <td>38.1</td>\n",
       "      <td>NaN</td>\n",
       "      <td>372.00</td>\n",
       "      <td>52.7</td>\n",
       "      <td>2.23</td>\n",
       "      <td>220000.0</td>\n",
       "      <td>2570.0</td>\n",
       "      <td>52400000</td>\n",
       "    </tr>\n",
       "    <tr>\n",
       "      <th>91</th>\n",
       "      <td>Nigeria</td>\n",
       "      <td>4.932915</td>\n",
       "      <td>5670.0</td>\n",
       "      <td>64.0</td>\n",
       "      <td>32.60</td>\n",
       "      <td>67.3</td>\n",
       "      <td>16.10</td>\n",
       "      <td>NaN</td>\n",
       "      <td>51.1</td>\n",
       "      <td>43.0</td>\n",
       "      <td>NaN</td>\n",
       "      <td>763.00</td>\n",
       "      <td>108.0</td>\n",
       "      <td>5.59</td>\n",
       "      <td>3400000.0</td>\n",
       "      <td>2700.0</td>\n",
       "      <td>181000000</td>\n",
       "    </tr>\n",
       "    <tr>\n",
       "      <th>113</th>\n",
       "      <td>South Africa</td>\n",
       "      <td>4.887326</td>\n",
       "      <td>12400.0</td>\n",
       "      <td>61.8</td>\n",
       "      <td>73.10</td>\n",
       "      <td>84.7</td>\n",
       "      <td>34.20</td>\n",
       "      <td>7.5200</td>\n",
       "      <td>93.0</td>\n",
       "      <td>63.0</td>\n",
       "      <td>11.00</td>\n",
       "      <td>2700.00</td>\n",
       "      <td>44.1</td>\n",
       "      <td>2.49</td>\n",
       "      <td>5600000.0</td>\n",
       "      <td>3020.0</td>\n",
       "      <td>55300000</td>\n",
       "    </tr>\n",
       "    <tr>\n",
       "      <th>122</th>\n",
       "      <td>Tanzania</td>\n",
       "      <td>3.660597</td>\n",
       "      <td>2490.0</td>\n",
       "      <td>63.5</td>\n",
       "      <td>23.50</td>\n",
       "      <td>50.1</td>\n",
       "      <td>11.00</td>\n",
       "      <td>0.7260</td>\n",
       "      <td>67.8</td>\n",
       "      <td>37.8</td>\n",
       "      <td>NaN</td>\n",
       "      <td>475.00</td>\n",
       "      <td>58.8</td>\n",
       "      <td>5.08</td>\n",
       "      <td>1600000.0</td>\n",
       "      <td>2210.0</td>\n",
       "      <td>53900000</td>\n",
       "    </tr>\n",
       "    <tr>\n",
       "      <th>123</th>\n",
       "      <td>Thailand</td>\n",
       "      <td>6.201763</td>\n",
       "      <td>15200.0</td>\n",
       "      <td>77.6</td>\n",
       "      <td>95.00</td>\n",
       "      <td>98.2</td>\n",
       "      <td>18.90</td>\n",
       "      <td>0.0598</td>\n",
       "      <td>93.5</td>\n",
       "      <td>36.0</td>\n",
       "      <td>3.15</td>\n",
       "      <td>1970.00</td>\n",
       "      <td>12.6</td>\n",
       "      <td>1.50</td>\n",
       "      <td>490000.0</td>\n",
       "      <td>2780.0</td>\n",
       "      <td>68700000</td>\n",
       "    </tr>\n",
       "    <tr>\n",
       "      <th>128</th>\n",
       "      <td>Uganda</td>\n",
       "      <td>4.237687</td>\n",
       "      <td>1690.0</td>\n",
       "      <td>61.6</td>\n",
       "      <td>19.20</td>\n",
       "      <td>38.9</td>\n",
       "      <td>6.42</td>\n",
       "      <td>0.6460</td>\n",
       "      <td>73.2</td>\n",
       "      <td>41.0</td>\n",
       "      <td>NaN</td>\n",
       "      <td>NaN</td>\n",
       "      <td>55.9</td>\n",
       "      <td>5.68</td>\n",
       "      <td>1400000.0</td>\n",
       "      <td>2130.0</td>\n",
       "      <td>40100000</td>\n",
       "    </tr>\n",
       "    <tr>\n",
       "      <th>129</th>\n",
       "      <td>Ukraine</td>\n",
       "      <td>3.964543</td>\n",
       "      <td>7470.0</td>\n",
       "      <td>71.9</td>\n",
       "      <td>95.90</td>\n",
       "      <td>97.7</td>\n",
       "      <td>11.80</td>\n",
       "      <td>1.5300</td>\n",
       "      <td>99.7</td>\n",
       "      <td>25.5</td>\n",
       "      <td>9.25</td>\n",
       "      <td>2330.00</td>\n",
       "      <td>9.4</td>\n",
       "      <td>1.53</td>\n",
       "      <td>230000.0</td>\n",
       "      <td>3140.0</td>\n",
       "      <td>44700000</td>\n",
       "    </tr>\n",
       "    <tr>\n",
       "      <th>132</th>\n",
       "      <td>United States</td>\n",
       "      <td>6.863947</td>\n",
       "      <td>52800.0</td>\n",
       "      <td>78.8</td>\n",
       "      <td>100.00</td>\n",
       "      <td>99.2</td>\n",
       "      <td>45.50</td>\n",
       "      <td>0.8290</td>\n",
       "      <td>NaN</td>\n",
       "      <td>41.0</td>\n",
       "      <td>6.42</td>\n",
       "      <td>6800.00</td>\n",
       "      <td>6.6</td>\n",
       "      <td>1.93</td>\n",
       "      <td>1300000.0</td>\n",
       "      <td>3680.0</td>\n",
       "      <td>320000000</td>\n",
       "    </tr>\n",
       "    <tr>\n",
       "      <th>136</th>\n",
       "      <td>Vietnam</td>\n",
       "      <td>5.076315</td>\n",
       "      <td>5670.0</td>\n",
       "      <td>74.3</td>\n",
       "      <td>78.20</td>\n",
       "      <td>91.2</td>\n",
       "      <td>15.20</td>\n",
       "      <td>0.2990</td>\n",
       "      <td>93.4</td>\n",
       "      <td>34.8</td>\n",
       "      <td>NaN</td>\n",
       "      <td>655.00</td>\n",
       "      <td>22.0</td>\n",
       "      <td>1.96</td>\n",
       "      <td>250000.0</td>\n",
       "      <td>2750.0</td>\n",
       "      <td>93600000</td>\n",
       "    </tr>\n",
       "    <tr>\n",
       "      <th>138</th>\n",
       "      <td>Zambia</td>\n",
       "      <td>4.843164</td>\n",
       "      <td>3630.0</td>\n",
       "      <td>58.1</td>\n",
       "      <td>31.10</td>\n",
       "      <td>61.2</td>\n",
       "      <td>13.60</td>\n",
       "      <td>NaN</td>\n",
       "      <td>61.4</td>\n",
       "      <td>57.1</td>\n",
       "      <td>NaN</td>\n",
       "      <td>635.00</td>\n",
       "      <td>66.1</td>\n",
       "      <td>5.04</td>\n",
       "      <td>970000.0</td>\n",
       "      <td>1930.0</td>\n",
       "      <td>16100000</td>\n",
       "    </tr>\n",
       "    <tr>\n",
       "      <th>139</th>\n",
       "      <td>Zimbabwe</td>\n",
       "      <td>3.703191</td>\n",
       "      <td>1890.0</td>\n",
       "      <td>58.3</td>\n",
       "      <td>38.60</td>\n",
       "      <td>66.6</td>\n",
       "      <td>9.51</td>\n",
       "      <td>2.4200</td>\n",
       "      <td>83.6</td>\n",
       "      <td>43.2</td>\n",
       "      <td>NaN</td>\n",
       "      <td>750.00</td>\n",
       "      <td>59.9</td>\n",
       "      <td>3.84</td>\n",
       "      <td>1200000.0</td>\n",
       "      <td>2110.0</td>\n",
       "      <td>15800000</td>\n",
       "    </tr>\n",
       "    <tr>\n",
       "      <th>142</th>\n",
       "      <td>Angola</td>\n",
       "      <td>NaN</td>\n",
       "      <td>6230.0</td>\n",
       "      <td>64.0</td>\n",
       "      <td>39.40</td>\n",
       "      <td>41.0</td>\n",
       "      <td>25.20</td>\n",
       "      <td>1.5600</td>\n",
       "      <td>70.4</td>\n",
       "      <td>42.7</td>\n",
       "      <td>NaN</td>\n",
       "      <td>545.00</td>\n",
       "      <td>86.5</td>\n",
       "      <td>5.77</td>\n",
       "      <td>230000.0</td>\n",
       "      <td>2470.0</td>\n",
       "      <td>27900000</td>\n",
       "    </tr>\n",
       "    <tr>\n",
       "      <th>165</th>\n",
       "      <td>Lesotho</td>\n",
       "      <td>NaN</td>\n",
       "      <td>2780.0</td>\n",
       "      <td>49.6</td>\n",
       "      <td>43.80</td>\n",
       "      <td>71.6</td>\n",
       "      <td>NaN</td>\n",
       "      <td>NaN</td>\n",
       "      <td>75.8</td>\n",
       "      <td>54.2</td>\n",
       "      <td>NaN</td>\n",
       "      <td>9.58</td>\n",
       "      <td>97.9</td>\n",
       "      <td>3.14</td>\n",
       "      <td>320000.0</td>\n",
       "      <td>2530.0</td>\n",
       "      <td>2170000</td>\n",
       "    </tr>\n",
       "  </tbody>\n",
       "</table>\n",
       "</div>"
      ],
      "text/plain": [
       "           country  happiness   income  lifeexp  sanitation  water  \\\n",
       "15        Botswana   3.761965  15400.0     64.6       60.00   79.2   \n",
       "16          Brazil   6.546897  14700.0     75.2       86.10   97.5   \n",
       "20        Cameroon   5.037965   2990.0     59.7       38.80   65.3   \n",
       "24           China   5.303878  13600.0     76.3       75.00   95.8   \n",
       "38        Ethiopia   4.573155   1530.0     65.2        7.08   39.1   \n",
       "44           Ghana   3.985916   3930.0     65.4       14.30   77.8   \n",
       "52           India   4.342079   5750.0     68.2       44.20   87.6   \n",
       "53       Indonesia   5.042800  10400.0     71.4       67.90   89.5   \n",
       "59   Cote d'Ivoire   4.445039   3250.0     59.2       29.90   73.1   \n",
       "63           Kenya   4.357618   2840.0     66.3       29.80   58.5   \n",
       "74          Malawi   3.867638   1090.0     59.4       43.50   67.2   \n",
       "84      Mozambique   4.549767   1120.0     59.0       23.60   47.3   \n",
       "85         Myanmar   4.223846   5070.0     69.5       64.70   67.5   \n",
       "91         Nigeria   4.932915   5670.0     64.0       32.60   67.3   \n",
       "113   South Africa   4.887326  12400.0     61.8       73.10   84.7   \n",
       "122       Tanzania   3.660597   2490.0     63.5       23.50   50.1   \n",
       "123       Thailand   6.201763  15200.0     77.6       95.00   98.2   \n",
       "128         Uganda   4.237687   1690.0     61.6       19.20   38.9   \n",
       "129        Ukraine   3.964543   7470.0     71.9       95.90   97.7   \n",
       "132  United States   6.863947  52800.0     78.8      100.00   99.2   \n",
       "136        Vietnam   5.076315   5670.0     74.3       78.20   91.2   \n",
       "138         Zambia   4.843164   3630.0     58.1       31.10   61.2   \n",
       "139       Zimbabwe   3.703191   1890.0     58.3       38.60   66.6   \n",
       "142         Angola        NaN   6230.0     64.0       39.40   41.0   \n",
       "165        Lesotho        NaN   2780.0     49.6       43.80   71.6   \n",
       "\n",
       "     urbanpopulation  unemployment  literacy  inequality  murder   energy  \\\n",
       "15               NaN           NaN      85.1        60.5     NaN  1250.00   \n",
       "16             40.90           NaN      90.4        51.3   15.70  1480.00   \n",
       "20             26.60        1.2200      71.3        46.6     NaN   342.00   \n",
       "24             26.10           NaN      95.1        42.2     NaN  2240.00   \n",
       "38              3.88        0.5890      39.0        39.1     NaN   497.00   \n",
       "44             17.80        1.4900      71.5        42.4     NaN   335.00   \n",
       "52             14.70           NaN      62.8        35.1     NaN   637.00   \n",
       "53             13.10        1.2600      92.8        39.5     NaN   884.00   \n",
       "59             19.60           NaN      56.9        41.5     NaN   616.00   \n",
       "63             10.60           NaN      72.2        40.8     NaN   513.00   \n",
       "74              5.15        1.2200      61.3        45.5     NaN      NaN   \n",
       "84              8.73           NaN      50.6        54.0     NaN   428.00   \n",
       "85             11.70        0.1240      92.7        38.1     NaN   372.00   \n",
       "91             16.10           NaN      51.1        43.0     NaN   763.00   \n",
       "113            34.20        7.5200      93.0        63.0   11.00  2700.00   \n",
       "122            11.00        0.7260      67.8        37.8     NaN   475.00   \n",
       "123            18.90        0.0598      93.5        36.0    3.15  1970.00   \n",
       "128             6.42        0.6460      73.2        41.0     NaN      NaN   \n",
       "129            11.80        1.5300      99.7        25.5    9.25  2330.00   \n",
       "132            45.50        0.8290       NaN        41.0    6.42  6800.00   \n",
       "136            15.20        0.2990      93.4        34.8     NaN   655.00   \n",
       "138            13.60           NaN      61.4        57.1     NaN   635.00   \n",
       "139             9.51        2.4200      83.6        43.2     NaN   750.00   \n",
       "142            25.20        1.5600      70.4        42.7     NaN   545.00   \n",
       "165              NaN           NaN      75.8        54.2     NaN     9.58   \n",
       "\n",
       "     childmortality  fertility        hiv  foodsupply  population  \n",
       "15             42.1       2.77   300000.0      2330.0     2210000  \n",
       "16             15.7       1.74   490000.0      3260.0   206000000  \n",
       "20             83.3       4.78   550000.0      2670.0    22800000  \n",
       "24             10.7       1.62   780000.0      3110.0  1400000000  \n",
       "38             61.3       4.32   790000.0      2130.0    99900000  \n",
       "44             61.0       4.04   230000.0      3020.0    27600000  \n",
       "52             45.2       2.35  2400000.0      2460.0  1310000000  \n",
       "53             27.3       2.39   380000.0      2780.0   258000000  \n",
       "59             95.1       4.97   360000.0      2800.0    23100000  \n",
       "63             51.0       3.92  1600000.0      2210.0    47200000  \n",
       "74             59.1       4.65   910000.0      2370.0    17600000  \n",
       "84             75.1       5.31  1400000.0      2280.0    28000000  \n",
       "85             52.7       2.23   220000.0      2570.0    52400000  \n",
       "91            108.0       5.59  3400000.0      2700.0   181000000  \n",
       "113            44.1       2.49  5600000.0      3020.0    55300000  \n",
       "122            58.8       5.08  1600000.0      2210.0    53900000  \n",
       "123            12.6       1.50   490000.0      2780.0    68700000  \n",
       "128            55.9       5.68  1400000.0      2130.0    40100000  \n",
       "129             9.4       1.53   230000.0      3140.0    44700000  \n",
       "132             6.6       1.93  1300000.0      3680.0   320000000  \n",
       "136            22.0       1.96   250000.0      2750.0    93600000  \n",
       "138            66.1       5.04   970000.0      1930.0    16100000  \n",
       "139            59.9       3.84  1200000.0      2110.0    15800000  \n",
       "142            86.5       5.77   230000.0      2470.0    27900000  \n",
       "165            97.9       3.14   320000.0      2530.0     2170000  "
      ]
     },
     "execution_count": 8,
     "metadata": {},
     "output_type": "execute_result"
    }
   ],
   "source": [
    "dataset[dataset['hiv']>= 217991.677852]"
   ]
  },
  {
   "cell_type": "code",
   "execution_count": 9,
   "metadata": {
    "id": "Gir3LqxGVN_X"
   },
   "outputs": [
    {
     "data": {
      "text/html": [
       "<div>\n",
       "<style scoped>\n",
       "    .dataframe tbody tr th:only-of-type {\n",
       "        vertical-align: middle;\n",
       "    }\n",
       "\n",
       "    .dataframe tbody tr th {\n",
       "        vertical-align: top;\n",
       "    }\n",
       "\n",
       "    .dataframe thead th {\n",
       "        text-align: right;\n",
       "    }\n",
       "</style>\n",
       "<table border=\"1\" class=\"dataframe\">\n",
       "  <thead>\n",
       "    <tr style=\"text-align: right;\">\n",
       "      <th></th>\n",
       "      <th>country</th>\n",
       "      <th>happiness</th>\n",
       "      <th>income</th>\n",
       "      <th>lifeexp</th>\n",
       "      <th>sanitation</th>\n",
       "      <th>water</th>\n",
       "      <th>urbanpopulation</th>\n",
       "      <th>unemployment</th>\n",
       "      <th>literacy</th>\n",
       "      <th>inequality</th>\n",
       "      <th>murder</th>\n",
       "      <th>energy</th>\n",
       "      <th>childmortality</th>\n",
       "      <th>fertility</th>\n",
       "      <th>hiv</th>\n",
       "      <th>foodsupply</th>\n",
       "      <th>population</th>\n",
       "    </tr>\n",
       "  </thead>\n",
       "  <tbody>\n",
       "    <tr>\n",
       "      <th>7</th>\n",
       "      <td>Bahrain</td>\n",
       "      <td>6.007375</td>\n",
       "      <td>44500.0</td>\n",
       "      <td>76.8</td>\n",
       "      <td>100.0</td>\n",
       "      <td>100.0</td>\n",
       "      <td>NaN</td>\n",
       "      <td>NaN</td>\n",
       "      <td>94.6</td>\n",
       "      <td>NaN</td>\n",
       "      <td>0.521</td>\n",
       "      <td>10600.0</td>\n",
       "      <td>7.7</td>\n",
       "      <td>2.05</td>\n",
       "      <td>NaN</td>\n",
       "      <td>NaN</td>\n",
       "      <td>1370000</td>\n",
       "    </tr>\n",
       "    <tr>\n",
       "      <th>10</th>\n",
       "      <td>Belgium</td>\n",
       "      <td>6.904219</td>\n",
       "      <td>41700.0</td>\n",
       "      <td>80.9</td>\n",
       "      <td>99.5</td>\n",
       "      <td>100.0</td>\n",
       "      <td>26.8</td>\n",
       "      <td>2.460</td>\n",
       "      <td>NaN</td>\n",
       "      <td>27.7</td>\n",
       "      <td>0.978</td>\n",
       "      <td>4690.0</td>\n",
       "      <td>4.0</td>\n",
       "      <td>1.79</td>\n",
       "      <td>20000.0</td>\n",
       "      <td>3730.0</td>\n",
       "      <td>11300000</td>\n",
       "    </tr>\n",
       "    <tr>\n",
       "      <th>14</th>\n",
       "      <td>Bosnia and Herzegovina</td>\n",
       "      <td>5.117178</td>\n",
       "      <td>10900.0</td>\n",
       "      <td>77.4</td>\n",
       "      <td>94.8</td>\n",
       "      <td>97.7</td>\n",
       "      <td>NaN</td>\n",
       "      <td>7.900</td>\n",
       "      <td>98.0</td>\n",
       "      <td>32.7</td>\n",
       "      <td>1.010</td>\n",
       "      <td>2190.0</td>\n",
       "      <td>6.1</td>\n",
       "      <td>1.35</td>\n",
       "      <td>NaN</td>\n",
       "      <td>3150.0</td>\n",
       "      <td>3540000</td>\n",
       "    </tr>\n",
       "    <tr>\n",
       "      <th>19</th>\n",
       "      <td>Cambodia</td>\n",
       "      <td>4.162165</td>\n",
       "      <td>3290.0</td>\n",
       "      <td>68.3</td>\n",
       "      <td>48.8</td>\n",
       "      <td>75.0</td>\n",
       "      <td>11.5</td>\n",
       "      <td>0.130</td>\n",
       "      <td>73.9</td>\n",
       "      <td>NaN</td>\n",
       "      <td>NaN</td>\n",
       "      <td>417.0</td>\n",
       "      <td>32.0</td>\n",
       "      <td>2.59</td>\n",
       "      <td>64000.0</td>\n",
       "      <td>2480.0</td>\n",
       "      <td>15500000</td>\n",
       "    </tr>\n",
       "    <tr>\n",
       "      <th>27</th>\n",
       "      <td>Congo, Dem. Rep.</td>\n",
       "      <td>3.902742</td>\n",
       "      <td>750.0</td>\n",
       "      <td>60.9</td>\n",
       "      <td>19.7</td>\n",
       "      <td>41.8</td>\n",
       "      <td>23.4</td>\n",
       "      <td>NaN</td>\n",
       "      <td>61.2</td>\n",
       "      <td>42.1</td>\n",
       "      <td>NaN</td>\n",
       "      <td>390.0</td>\n",
       "      <td>97.6</td>\n",
       "      <td>6.17</td>\n",
       "      <td>NaN</td>\n",
       "      <td>NaN</td>\n",
       "      <td>76200000</td>\n",
       "    </tr>\n",
       "    <tr>\n",
       "      <th>...</th>\n",
       "      <td>...</td>\n",
       "      <td>...</td>\n",
       "      <td>...</td>\n",
       "      <td>...</td>\n",
       "      <td>...</td>\n",
       "      <td>...</td>\n",
       "      <td>...</td>\n",
       "      <td>...</td>\n",
       "      <td>...</td>\n",
       "      <td>...</td>\n",
       "      <td>...</td>\n",
       "      <td>...</td>\n",
       "      <td>...</td>\n",
       "      <td>...</td>\n",
       "      <td>...</td>\n",
       "      <td>...</td>\n",
       "      <td>...</td>\n",
       "    </tr>\n",
       "    <tr>\n",
       "      <th>189</th>\n",
       "      <td>Tonga</td>\n",
       "      <td>NaN</td>\n",
       "      <td>5190.0</td>\n",
       "      <td>70.3</td>\n",
       "      <td>93.5</td>\n",
       "      <td>99.9</td>\n",
       "      <td>NaN</td>\n",
       "      <td>NaN</td>\n",
       "      <td>99.0</td>\n",
       "      <td>37.5</td>\n",
       "      <td>NaN</td>\n",
       "      <td>567.0</td>\n",
       "      <td>16.8</td>\n",
       "      <td>3.68</td>\n",
       "      <td>NaN</td>\n",
       "      <td>NaN</td>\n",
       "      <td>106000</td>\n",
       "    </tr>\n",
       "    <tr>\n",
       "      <th>190</th>\n",
       "      <td>Trinidad and Tobago</td>\n",
       "      <td>NaN</td>\n",
       "      <td>31300.0</td>\n",
       "      <td>73.1</td>\n",
       "      <td>92.1</td>\n",
       "      <td>96.9</td>\n",
       "      <td>NaN</td>\n",
       "      <td>NaN</td>\n",
       "      <td>98.8</td>\n",
       "      <td>40.3</td>\n",
       "      <td>12.100</td>\n",
       "      <td>14400.0</td>\n",
       "      <td>19.1</td>\n",
       "      <td>1.77</td>\n",
       "      <td>13000.0</td>\n",
       "      <td>3050.0</td>\n",
       "      <td>1360000</td>\n",
       "    </tr>\n",
       "    <tr>\n",
       "      <th>191</th>\n",
       "      <td>Tuvalu</td>\n",
       "      <td>NaN</td>\n",
       "      <td>3320.0</td>\n",
       "      <td>NaN</td>\n",
       "      <td>91.4</td>\n",
       "      <td>99.3</td>\n",
       "      <td>NaN</td>\n",
       "      <td>NaN</td>\n",
       "      <td>NaN</td>\n",
       "      <td>39.1</td>\n",
       "      <td>NaN</td>\n",
       "      <td>NaN</td>\n",
       "      <td>26.2</td>\n",
       "      <td>NaN</td>\n",
       "      <td>NaN</td>\n",
       "      <td>NaN</td>\n",
       "      <td>11000</td>\n",
       "    </tr>\n",
       "    <tr>\n",
       "      <th>192</th>\n",
       "      <td>Vanuatu</td>\n",
       "      <td>NaN</td>\n",
       "      <td>2810.0</td>\n",
       "      <td>63.6</td>\n",
       "      <td>53.5</td>\n",
       "      <td>90.5</td>\n",
       "      <td>NaN</td>\n",
       "      <td>0.978</td>\n",
       "      <td>83.2</td>\n",
       "      <td>37.6</td>\n",
       "      <td>NaN</td>\n",
       "      <td>159.0</td>\n",
       "      <td>28.2</td>\n",
       "      <td>3.31</td>\n",
       "      <td>NaN</td>\n",
       "      <td>2840.0</td>\n",
       "      <td>265000</td>\n",
       "    </tr>\n",
       "    <tr>\n",
       "      <th>193</th>\n",
       "      <td>Liechtenstein</td>\n",
       "      <td>NaN</td>\n",
       "      <td>NaN</td>\n",
       "      <td>NaN</td>\n",
       "      <td>100.0</td>\n",
       "      <td>100.0</td>\n",
       "      <td>NaN</td>\n",
       "      <td>NaN</td>\n",
       "      <td>NaN</td>\n",
       "      <td>NaN</td>\n",
       "      <td>NaN</td>\n",
       "      <td>NaN</td>\n",
       "      <td>NaN</td>\n",
       "      <td>NaN</td>\n",
       "      <td>NaN</td>\n",
       "      <td>NaN</td>\n",
       "      <td>37400</td>\n",
       "    </tr>\n",
       "  </tbody>\n",
       "</table>\n",
       "<p>86 rows × 17 columns</p>\n",
       "</div>"
      ],
      "text/plain": [
       "                    country  happiness   income  lifeexp  sanitation  water  \\\n",
       "7                   Bahrain   6.007375  44500.0     76.8       100.0  100.0   \n",
       "10                  Belgium   6.904219  41700.0     80.9        99.5  100.0   \n",
       "14   Bosnia and Herzegovina   5.117178  10900.0     77.4        94.8   97.7   \n",
       "19                 Cambodia   4.162165   3290.0     68.3        48.8   75.0   \n",
       "27         Congo, Dem. Rep.   3.902742    750.0     60.9        19.7   41.8   \n",
       "..                      ...        ...      ...      ...         ...    ...   \n",
       "189                   Tonga        NaN   5190.0     70.3        93.5   99.9   \n",
       "190     Trinidad and Tobago        NaN  31300.0     73.1        92.1   96.9   \n",
       "191                  Tuvalu        NaN   3320.0      NaN        91.4   99.3   \n",
       "192                 Vanuatu        NaN   2810.0     63.6        53.5   90.5   \n",
       "193           Liechtenstein        NaN      NaN      NaN       100.0  100.0   \n",
       "\n",
       "     urbanpopulation  unemployment  literacy  inequality  murder   energy  \\\n",
       "7                NaN           NaN      94.6         NaN   0.521  10600.0   \n",
       "10              26.8         2.460       NaN        27.7   0.978   4690.0   \n",
       "14               NaN         7.900      98.0        32.7   1.010   2190.0   \n",
       "19              11.5         0.130      73.9         NaN     NaN    417.0   \n",
       "27              23.4           NaN      61.2        42.1     NaN    390.0   \n",
       "..               ...           ...       ...         ...     ...      ...   \n",
       "189              NaN           NaN      99.0        37.5     NaN    567.0   \n",
       "190              NaN           NaN      98.8        40.3  12.100  14400.0   \n",
       "191              NaN           NaN       NaN        39.1     NaN      NaN   \n",
       "192              NaN         0.978      83.2        37.6     NaN    159.0   \n",
       "193              NaN           NaN       NaN         NaN     NaN      NaN   \n",
       "\n",
       "     childmortality  fertility      hiv  foodsupply  population  \n",
       "7               7.7       2.05      NaN         NaN     1370000  \n",
       "10              4.0       1.79  20000.0      3730.0    11300000  \n",
       "14              6.1       1.35      NaN      3150.0     3540000  \n",
       "19             32.0       2.59  64000.0      2480.0    15500000  \n",
       "27             97.6       6.17      NaN         NaN    76200000  \n",
       "..              ...        ...      ...         ...         ...  \n",
       "189            16.8       3.68      NaN         NaN      106000  \n",
       "190            19.1       1.77  13000.0      3050.0     1360000  \n",
       "191            26.2        NaN      NaN         NaN       11000  \n",
       "192            28.2       3.31      NaN      2840.0      265000  \n",
       "193             NaN        NaN      NaN         NaN       37400  \n",
       "\n",
       "[86 rows x 17 columns]"
      ]
     },
     "execution_count": 9,
     "metadata": {},
     "output_type": "execute_result"
    }
   ],
   "source": [
    "dataset[dataset.duplicated(subset= 'hiv')]"
   ]
  },
  {
   "cell_type": "code",
   "execution_count": 10,
   "metadata": {
    "colab": {
     "base_uri": "https://localhost:8080/",
     "height": 101
    },
    "id": "RdDrvwgUU7kw",
    "outputId": "3aa26072-c6bb-4e2b-fcc4-da5c80d81a0b"
   },
   "outputs": [
    {
     "data": {
      "text/html": [
       "<div>\n",
       "<style scoped>\n",
       "    .dataframe tbody tr th:only-of-type {\n",
       "        vertical-align: middle;\n",
       "    }\n",
       "\n",
       "    .dataframe tbody tr th {\n",
       "        vertical-align: top;\n",
       "    }\n",
       "\n",
       "    .dataframe thead th {\n",
       "        text-align: right;\n",
       "    }\n",
       "</style>\n",
       "<table border=\"1\" class=\"dataframe\">\n",
       "  <thead>\n",
       "    <tr style=\"text-align: right;\">\n",
       "      <th></th>\n",
       "      <th>country</th>\n",
       "      <th>happiness</th>\n",
       "      <th>income</th>\n",
       "      <th>lifeexp</th>\n",
       "      <th>sanitation</th>\n",
       "      <th>water</th>\n",
       "      <th>urbanpopulation</th>\n",
       "      <th>unemployment</th>\n",
       "      <th>literacy</th>\n",
       "      <th>inequality</th>\n",
       "      <th>murder</th>\n",
       "      <th>energy</th>\n",
       "      <th>childmortality</th>\n",
       "      <th>fertility</th>\n",
       "      <th>hiv</th>\n",
       "      <th>foodsupply</th>\n",
       "      <th>population</th>\n",
       "    </tr>\n",
       "  </thead>\n",
       "  <tbody>\n",
       "    <tr>\n",
       "      <th>94</th>\n",
       "      <td>Palestine</td>\n",
       "      <td>4.695239</td>\n",
       "      <td>2650.0</td>\n",
       "      <td>71.8</td>\n",
       "      <td>96.0</td>\n",
       "      <td>87.6</td>\n",
       "      <td>NaN</td>\n",
       "      <td>3.25</td>\n",
       "      <td>95.3</td>\n",
       "      <td>34.4</td>\n",
       "      <td>NaN</td>\n",
       "      <td>NaN</td>\n",
       "      <td>20.0</td>\n",
       "      <td>4.08</td>\n",
       "      <td>NaN</td>\n",
       "      <td>NaN</td>\n",
       "      <td>4660000</td>\n",
       "    </tr>\n",
       "  </tbody>\n",
       "</table>\n",
       "</div>"
      ],
      "text/plain": [
       "      country  happiness  income  lifeexp  sanitation  water  urbanpopulation  \\\n",
       "94  Palestine   4.695239  2650.0     71.8        96.0   87.6              NaN   \n",
       "\n",
       "    unemployment  literacy  inequality  murder  energy  childmortality  \\\n",
       "94          3.25      95.3        34.4     NaN     NaN            20.0   \n",
       "\n",
       "    fertility  hiv  foodsupply  population  \n",
       "94       4.08  NaN         NaN     4660000  "
      ]
     },
     "execution_count": 10,
     "metadata": {},
     "output_type": "execute_result"
    }
   ],
   "source": [
    "dataset[dataset['country'] == 'Palestine']"
   ]
  },
  {
   "cell_type": "code",
   "execution_count": 11,
   "metadata": {
    "colab": {
     "base_uri": "https://localhost:8080/",
     "height": 101
    },
    "id": "Mw7FLumaPdIf",
    "outputId": "69def46b-3da4-49b6-d445-a5e6f528b5df"
   },
   "outputs": [
    {
     "data": {
      "text/html": [
       "<div>\n",
       "<style scoped>\n",
       "    .dataframe tbody tr th:only-of-type {\n",
       "        vertical-align: middle;\n",
       "    }\n",
       "\n",
       "    .dataframe tbody tr th {\n",
       "        vertical-align: top;\n",
       "    }\n",
       "\n",
       "    .dataframe thead th {\n",
       "        text-align: right;\n",
       "    }\n",
       "</style>\n",
       "<table border=\"1\" class=\"dataframe\">\n",
       "  <thead>\n",
       "    <tr style=\"text-align: right;\">\n",
       "      <th></th>\n",
       "      <th>country</th>\n",
       "      <th>happiness</th>\n",
       "      <th>income</th>\n",
       "      <th>lifeexp</th>\n",
       "      <th>sanitation</th>\n",
       "      <th>water</th>\n",
       "      <th>urbanpopulation</th>\n",
       "      <th>unemployment</th>\n",
       "      <th>literacy</th>\n",
       "      <th>inequality</th>\n",
       "      <th>murder</th>\n",
       "      <th>energy</th>\n",
       "      <th>childmortality</th>\n",
       "      <th>fertility</th>\n",
       "      <th>hiv</th>\n",
       "      <th>foodsupply</th>\n",
       "      <th>population</th>\n",
       "    </tr>\n",
       "  </thead>\n",
       "  <tbody>\n",
       "    <tr>\n",
       "      <th>125</th>\n",
       "      <td>Tunisia</td>\n",
       "      <td>5.131612</td>\n",
       "      <td>10800.0</td>\n",
       "      <td>77.4</td>\n",
       "      <td>93.1</td>\n",
       "      <td>94.2</td>\n",
       "      <td>19.4</td>\n",
       "      <td>4.19</td>\n",
       "      <td>79.1</td>\n",
       "      <td>35.8</td>\n",
       "      <td>0.0745</td>\n",
       "      <td>944.0</td>\n",
       "      <td>14.0</td>\n",
       "      <td>2.22</td>\n",
       "      <td>1700.0</td>\n",
       "      <td>3350.0</td>\n",
       "      <td>11300000</td>\n",
       "    </tr>\n",
       "  </tbody>\n",
       "</table>\n",
       "</div>"
      ],
      "text/plain": [
       "     country  happiness   income  lifeexp  sanitation  water  urbanpopulation  \\\n",
       "125  Tunisia   5.131612  10800.0     77.4        93.1   94.2             19.4   \n",
       "\n",
       "     unemployment  literacy  inequality  murder  energy  childmortality  \\\n",
       "125          4.19      79.1        35.8  0.0745   944.0            14.0   \n",
       "\n",
       "     fertility     hiv  foodsupply  population  \n",
       "125       2.22  1700.0      3350.0    11300000  "
      ]
     },
     "execution_count": 11,
     "metadata": {},
     "output_type": "execute_result"
    }
   ],
   "source": [
    "dataset[dataset['country'] == 'Tunisia']"
   ]
  },
  {
   "cell_type": "code",
   "execution_count": 12,
   "metadata": {
    "colab": {
     "base_uri": "https://localhost:8080/",
     "height": 101
    },
    "id": "Vrp-Dc_uPMLo",
    "outputId": "6886b7f8-1c47-4215-96ad-72f725be738e"
   },
   "outputs": [
    {
     "data": {
      "text/html": [
       "<div>\n",
       "<style scoped>\n",
       "    .dataframe tbody tr th:only-of-type {\n",
       "        vertical-align: middle;\n",
       "    }\n",
       "\n",
       "    .dataframe tbody tr th {\n",
       "        vertical-align: top;\n",
       "    }\n",
       "\n",
       "    .dataframe thead th {\n",
       "        text-align: right;\n",
       "    }\n",
       "</style>\n",
       "<table border=\"1\" class=\"dataframe\">\n",
       "  <thead>\n",
       "    <tr style=\"text-align: right;\">\n",
       "      <th></th>\n",
       "      <th>country</th>\n",
       "      <th>happiness</th>\n",
       "      <th>income</th>\n",
       "      <th>lifeexp</th>\n",
       "      <th>sanitation</th>\n",
       "      <th>water</th>\n",
       "      <th>urbanpopulation</th>\n",
       "      <th>unemployment</th>\n",
       "      <th>literacy</th>\n",
       "      <th>inequality</th>\n",
       "      <th>murder</th>\n",
       "      <th>energy</th>\n",
       "      <th>childmortality</th>\n",
       "      <th>fertility</th>\n",
       "      <th>hiv</th>\n",
       "      <th>foodsupply</th>\n",
       "      <th>population</th>\n",
       "    </tr>\n",
       "  </thead>\n",
       "  <tbody>\n",
       "    <tr>\n",
       "      <th>140</th>\n",
       "      <td>Algeria</td>\n",
       "      <td>NaN</td>\n",
       "      <td>13700.0</td>\n",
       "      <td>77.3</td>\n",
       "      <td>87.5</td>\n",
       "      <td>93.5</td>\n",
       "      <td>6.5</td>\n",
       "      <td>2.15</td>\n",
       "      <td>72.7</td>\n",
       "      <td>27.6</td>\n",
       "      <td>NaN</td>\n",
       "      <td>1320.0</td>\n",
       "      <td>25.5</td>\n",
       "      <td>2.84</td>\n",
       "      <td>NaN</td>\n",
       "      <td>3300.0</td>\n",
       "      <td>39900000</td>\n",
       "    </tr>\n",
       "  </tbody>\n",
       "</table>\n",
       "</div>"
      ],
      "text/plain": [
       "     country  happiness   income  lifeexp  sanitation  water  urbanpopulation  \\\n",
       "140  Algeria        NaN  13700.0     77.3        87.5   93.5              6.5   \n",
       "\n",
       "     unemployment  literacy  inequality  murder  energy  childmortality  \\\n",
       "140          2.15      72.7        27.6     NaN  1320.0            25.5   \n",
       "\n",
       "     fertility  hiv  foodsupply  population  \n",
       "140       2.84  NaN      3300.0    39900000  "
      ]
     },
     "execution_count": 12,
     "metadata": {},
     "output_type": "execute_result"
    }
   ],
   "source": [
    "dataset[dataset['country'] == 'Algeria']"
   ]
  },
  {
   "cell_type": "code",
   "execution_count": 13,
   "metadata": {
    "colab": {
     "base_uri": "https://localhost:8080/",
     "height": 101
    },
    "id": "SYUSbI5NOpxS",
    "outputId": "408d804d-172b-40f5-ad13-98dc7101ae73"
   },
   "outputs": [
    {
     "data": {
      "text/html": [
       "<div>\n",
       "<style scoped>\n",
       "    .dataframe tbody tr th:only-of-type {\n",
       "        vertical-align: middle;\n",
       "    }\n",
       "\n",
       "    .dataframe tbody tr th {\n",
       "        vertical-align: top;\n",
       "    }\n",
       "\n",
       "    .dataframe thead th {\n",
       "        text-align: right;\n",
       "    }\n",
       "</style>\n",
       "<table border=\"1\" class=\"dataframe\">\n",
       "  <thead>\n",
       "    <tr style=\"text-align: right;\">\n",
       "      <th></th>\n",
       "      <th>country</th>\n",
       "      <th>happiness</th>\n",
       "      <th>income</th>\n",
       "      <th>lifeexp</th>\n",
       "      <th>sanitation</th>\n",
       "      <th>water</th>\n",
       "      <th>urbanpopulation</th>\n",
       "      <th>unemployment</th>\n",
       "      <th>literacy</th>\n",
       "      <th>inequality</th>\n",
       "      <th>murder</th>\n",
       "      <th>energy</th>\n",
       "      <th>childmortality</th>\n",
       "      <th>fertility</th>\n",
       "      <th>hiv</th>\n",
       "      <th>foodsupply</th>\n",
       "      <th>population</th>\n",
       "    </tr>\n",
       "  </thead>\n",
       "  <tbody>\n",
       "    <tr>\n",
       "      <th>152</th>\n",
       "      <td>Cuba</td>\n",
       "      <td>NaN</td>\n",
       "      <td>20000.0</td>\n",
       "      <td>78.9</td>\n",
       "      <td>90.8</td>\n",
       "      <td>95.2</td>\n",
       "      <td>18.5</td>\n",
       "      <td>0.401</td>\n",
       "      <td>99.8</td>\n",
       "      <td>NaN</td>\n",
       "      <td>6.09</td>\n",
       "      <td>1020.0</td>\n",
       "      <td>5.6</td>\n",
       "      <td>1.72</td>\n",
       "      <td>14000.0</td>\n",
       "      <td>3410.0</td>\n",
       "      <td>11500000</td>\n",
       "    </tr>\n",
       "  </tbody>\n",
       "</table>\n",
       "</div>"
      ],
      "text/plain": [
       "    country  happiness   income  lifeexp  sanitation  water  urbanpopulation  \\\n",
       "152    Cuba        NaN  20000.0     78.9        90.8   95.2             18.5   \n",
       "\n",
       "     unemployment  literacy  inequality  murder  energy  childmortality  \\\n",
       "152         0.401      99.8         NaN    6.09  1020.0             5.6   \n",
       "\n",
       "     fertility      hiv  foodsupply  population  \n",
       "152       1.72  14000.0      3410.0    11500000  "
      ]
     },
     "execution_count": 13,
     "metadata": {},
     "output_type": "execute_result"
    }
   ],
   "source": [
    "dataset[dataset['country'] == 'Cuba']"
   ]
  },
  {
   "cell_type": "markdown",
   "metadata": {
    "id": "PI1VWoz8ok6S"
   },
   "source": [
    "Check we have sensible data types for each feature.  E.g. we don't want any numeric features to be showing as object type."
   ]
  },
  {
   "cell_type": "code",
   "execution_count": 14,
   "metadata": {
    "colab": {
     "base_uri": "https://localhost:8080/"
    },
    "id": "sbv1mYWuok6S",
    "outputId": "57793e06-ecdb-49da-9fa2-0e9206faee61"
   },
   "outputs": [
    {
     "data": {
      "text/plain": [
       "country             object\n",
       "happiness          float64\n",
       "income             float64\n",
       "lifeexp            float64\n",
       "sanitation         float64\n",
       "water              float64\n",
       "urbanpopulation    float64\n",
       "unemployment       float64\n",
       "literacy           float64\n",
       "inequality         float64\n",
       "murder             float64\n",
       "energy             float64\n",
       "childmortality     float64\n",
       "fertility          float64\n",
       "hiv                float64\n",
       "foodsupply         float64\n",
       "population           int64\n",
       "dtype: object"
      ]
     },
     "execution_count": 14,
     "metadata": {},
     "output_type": "execute_result"
    }
   ],
   "source": [
    "# Check data types\n",
    "dataset.dtypes"
   ]
  },
  {
   "cell_type": "markdown",
   "metadata": {
    "id": "EOpqbbJqok6S"
   },
   "source": [
    "Check if there are nulls"
   ]
  },
  {
   "cell_type": "code",
   "execution_count": 15,
   "metadata": {
    "colab": {
     "base_uri": "https://localhost:8080/"
    },
    "id": "ItfDb23hok6T",
    "outputId": "2e6d55a6-fbd2-4667-8147-d2abfe0cd0b0"
   },
   "outputs": [
    {
     "data": {
      "text/plain": [
       "country            0.000000\n",
       "water              0.000000\n",
       "sanitation         0.000000\n",
       "population         0.000000\n",
       "income             0.005155\n",
       "childmortality     0.005155\n",
       "lifeexp            0.036082\n",
       "fertility          0.051546\n",
       "energy             0.128866\n",
       "foodsupply         0.134021\n",
       "inequality         0.175258\n",
       "hiv                0.231959\n",
       "literacy           0.231959\n",
       "happiness          0.278351\n",
       "urbanpopulation    0.386598\n",
       "unemployment       0.422680\n",
       "murder             0.520619\n",
       "dtype: float64"
      ]
     },
     "execution_count": 15,
     "metadata": {},
     "output_type": "execute_result"
    }
   ],
   "source": [
    "# Check for nulls\n",
    "dataset.isnull().mean().sort_values()"
   ]
  },
  {
   "cell_type": "markdown",
   "metadata": {
    "id": "Vq2KrfPyok6T"
   },
   "source": [
    "## Clean data\n",
    "Some of these features (murder, urbanpopulation, unemployment) are very sparsely populated.  If we were to impute the nulls, we would be estimating a large number of values. Let's discard them for now, but we may come back to these again later (remember, this is an iterative process)."
   ]
  },
  {
   "cell_type": "code",
   "execution_count": 16,
   "metadata": {
    "id": "z2IZA6NKok6T"
   },
   "outputs": [],
   "source": [
    "# Discard very sparse features\n",
    "dataset = dataset.drop([\"murder\",\"urbanpopulation\",\"unemployment\"], axis=1)"
   ]
  },
  {
   "cell_type": "markdown",
   "metadata": {
    "id": "BvkVestHok6T"
   },
   "source": [
    "For the others, let's just impute with the mean value of the feature.  Again, we may want to come back to this later."
   ]
  },
  {
   "cell_type": "code",
   "execution_count": 17,
   "metadata": {
    "colab": {
     "base_uri": "https://localhost:8080/"
    },
    "id": "Dyeuf6m3ok6U",
    "outputId": "a282e398-cd54-4e0f-a310-8479bea63b9c"
   },
   "outputs": [
    {
     "name": "stderr",
     "output_type": "stream",
     "text": [
      "C:\\Users\\hayth\\AppData\\Local\\Temp\\ipykernel_10384\\569043488.py:2: FutureWarning: The default value of numeric_only in DataFrame.mean is deprecated. In a future version, it will default to False. In addition, specifying 'numeric_only=None' is deprecated. Select only valid columns or specify the value of numeric_only to silence this warning.\n",
      "  means = dataset.mean().to_dict()\n"
     ]
    }
   ],
   "source": [
    "# Compute the mean for each feature\n",
    "means = dataset.mean().to_dict()\n",
    "\n",
    "# Impute each null with the mean of that feature\n",
    "for m in means:\n",
    "    dataset[m] = dataset[m].fillna(value=means[m])"
   ]
  },
  {
   "cell_type": "markdown",
   "metadata": {
    "id": "qBqEQPuaok6U"
   },
   "source": [
    "Confirm we have no nulls now:"
   ]
  },
  {
   "cell_type": "code",
   "execution_count": 18,
   "metadata": {
    "colab": {
     "base_uri": "https://localhost:8080/"
    },
    "id": "6dG4NB8Rok6U",
    "outputId": "ff887175-8c1c-4cfc-ac93-280a9b45e2b2"
   },
   "outputs": [
    {
     "data": {
      "text/plain": [
       "country           0.0\n",
       "happiness         0.0\n",
       "income            0.0\n",
       "lifeexp           0.0\n",
       "sanitation        0.0\n",
       "water             0.0\n",
       "literacy          0.0\n",
       "inequality        0.0\n",
       "energy            0.0\n",
       "childmortality    0.0\n",
       "fertility         0.0\n",
       "hiv               0.0\n",
       "foodsupply        0.0\n",
       "population        0.0\n",
       "dtype: float64"
      ]
     },
     "execution_count": 18,
     "metadata": {},
     "output_type": "execute_result"
    }
   ],
   "source": [
    "# Check for nulls\n",
    "dataset.isnull().mean()"
   ]
  },
  {
   "cell_type": "markdown",
   "metadata": {
    "id": "IEs9aFsfok6V"
   },
   "source": [
    "## Understand the data\n",
    "\n",
    "### Compute descriptive stats\n",
    "Descriptive stats give an idea of the range and spread of values for each feature and allows us to spot and unexpected patterns."
   ]
  },
  {
   "cell_type": "code",
   "execution_count": 19,
   "metadata": {
    "colab": {
     "base_uri": "https://localhost:8080/",
     "height": 320
    },
    "id": "Fuy8EzrJok6V",
    "outputId": "0220f4c2-d0e9-4a69-f33d-f1b8c1acb505",
    "scrolled": false
   },
   "outputs": [
    {
     "data": {
      "text/html": [
       "<div>\n",
       "<style scoped>\n",
       "    .dataframe tbody tr th:only-of-type {\n",
       "        vertical-align: middle;\n",
       "    }\n",
       "\n",
       "    .dataframe tbody tr th {\n",
       "        vertical-align: top;\n",
       "    }\n",
       "\n",
       "    .dataframe thead th {\n",
       "        text-align: right;\n",
       "    }\n",
       "</style>\n",
       "<table border=\"1\" class=\"dataframe\">\n",
       "  <thead>\n",
       "    <tr style=\"text-align: right;\">\n",
       "      <th></th>\n",
       "      <th>happiness</th>\n",
       "      <th>income</th>\n",
       "      <th>lifeexp</th>\n",
       "      <th>sanitation</th>\n",
       "      <th>water</th>\n",
       "      <th>literacy</th>\n",
       "      <th>inequality</th>\n",
       "      <th>energy</th>\n",
       "      <th>childmortality</th>\n",
       "      <th>fertility</th>\n",
       "      <th>hiv</th>\n",
       "      <th>foodsupply</th>\n",
       "      <th>population</th>\n",
       "    </tr>\n",
       "  </thead>\n",
       "  <tbody>\n",
       "    <tr>\n",
       "      <th>count</th>\n",
       "      <td>194.000000</td>\n",
       "      <td>194.000000</td>\n",
       "      <td>194.000000</td>\n",
       "      <td>194.000000</td>\n",
       "      <td>194.000000</td>\n",
       "      <td>194.000000</td>\n",
       "      <td>194.000000</td>\n",
       "      <td>194.000000</td>\n",
       "      <td>194.000000</td>\n",
       "      <td>194.000000</td>\n",
       "      <td>1.940000e+02</td>\n",
       "      <td>194.000000</td>\n",
       "      <td>1.940000e+02</td>\n",
       "    </tr>\n",
       "    <tr>\n",
       "      <th>mean</th>\n",
       "      <td>5.395765</td>\n",
       "      <td>17432.849741</td>\n",
       "      <td>71.933690</td>\n",
       "      <td>73.838247</td>\n",
       "      <td>86.329381</td>\n",
       "      <td>81.573826</td>\n",
       "      <td>38.579375</td>\n",
       "      <td>2183.725325</td>\n",
       "      <td>31.441451</td>\n",
       "      <td>2.835924</td>\n",
       "      <td>2.179917e+05</td>\n",
       "      <td>2845.952381</td>\n",
       "      <td>3.787195e+07</td>\n",
       "    </tr>\n",
       "    <tr>\n",
       "      <th>std</th>\n",
       "      <td>0.953547</td>\n",
       "      <td>19072.580021</td>\n",
       "      <td>7.466359</td>\n",
       "      <td>29.269367</td>\n",
       "      <td>17.568245</td>\n",
       "      <td>17.055722</td>\n",
       "      <td>7.257464</td>\n",
       "      <td>2618.536430</td>\n",
       "      <td>31.237992</td>\n",
       "      <td>1.336162</td>\n",
       "      <td>5.521169e+05</td>\n",
       "      <td>413.199619</td>\n",
       "      <td>1.419670e+08</td>\n",
       "    </tr>\n",
       "    <tr>\n",
       "      <th>min</th>\n",
       "      <td>2.701591</td>\n",
       "      <td>623.000000</td>\n",
       "      <td>49.600000</td>\n",
       "      <td>7.080000</td>\n",
       "      <td>19.300000</td>\n",
       "      <td>25.300000</td>\n",
       "      <td>16.600000</td>\n",
       "      <td>9.580000</td>\n",
       "      <td>2.200000</td>\n",
       "      <td>1.240000</td>\n",
       "      <td>6.000000e+01</td>\n",
       "      <td>1880.000000</td>\n",
       "      <td>1.100000e+04</td>\n",
       "    </tr>\n",
       "    <tr>\n",
       "      <th>25%</th>\n",
       "      <td>4.891838</td>\n",
       "      <td>3297.500000</td>\n",
       "      <td>66.425000</td>\n",
       "      <td>49.225000</td>\n",
       "      <td>77.900000</td>\n",
       "      <td>75.575000</td>\n",
       "      <td>34.000000</td>\n",
       "      <td>614.500000</td>\n",
       "      <td>8.200000</td>\n",
       "      <td>1.790000</td>\n",
       "      <td>1.025000e+04</td>\n",
       "      <td>2570.000000</td>\n",
       "      <td>1.982500e+06</td>\n",
       "    </tr>\n",
       "    <tr>\n",
       "      <th>50%</th>\n",
       "      <td>5.395765</td>\n",
       "      <td>11050.000000</td>\n",
       "      <td>72.550000</td>\n",
       "      <td>87.900000</td>\n",
       "      <td>94.950000</td>\n",
       "      <td>81.573826</td>\n",
       "      <td>38.579375</td>\n",
       "      <td>1565.000000</td>\n",
       "      <td>17.900000</td>\n",
       "      <td>2.415000</td>\n",
       "      <td>7.000000e+04</td>\n",
       "      <td>2845.952381</td>\n",
       "      <td>8.435000e+06</td>\n",
       "    </tr>\n",
       "    <tr>\n",
       "      <th>75%</th>\n",
       "      <td>5.880369</td>\n",
       "      <td>24100.000000</td>\n",
       "      <td>77.400000</td>\n",
       "      <td>97.700000</td>\n",
       "      <td>99.300000</td>\n",
       "      <td>95.375000</td>\n",
       "      <td>42.175000</td>\n",
       "      <td>2425.000000</td>\n",
       "      <td>49.225000</td>\n",
       "      <td>3.687500</td>\n",
       "      <td>2.179917e+05</td>\n",
       "      <td>3140.000000</td>\n",
       "      <td>2.742500e+07</td>\n",
       "    </tr>\n",
       "    <tr>\n",
       "      <th>max</th>\n",
       "      <td>7.603434</td>\n",
       "      <td>120000.000000</td>\n",
       "      <td>83.800000</td>\n",
       "      <td>100.000000</td>\n",
       "      <td>100.000000</td>\n",
       "      <td>100.000000</td>\n",
       "      <td>63.000000</td>\n",
       "      <td>18600.000000</td>\n",
       "      <td>137.000000</td>\n",
       "      <td>7.290000</td>\n",
       "      <td>5.600000e+06</td>\n",
       "      <td>3770.000000</td>\n",
       "      <td>1.400000e+09</td>\n",
       "    </tr>\n",
       "  </tbody>\n",
       "</table>\n",
       "</div>"
      ],
      "text/plain": [
       "        happiness         income     lifeexp  sanitation       water  \\\n",
       "count  194.000000     194.000000  194.000000  194.000000  194.000000   \n",
       "mean     5.395765   17432.849741   71.933690   73.838247   86.329381   \n",
       "std      0.953547   19072.580021    7.466359   29.269367   17.568245   \n",
       "min      2.701591     623.000000   49.600000    7.080000   19.300000   \n",
       "25%      4.891838    3297.500000   66.425000   49.225000   77.900000   \n",
       "50%      5.395765   11050.000000   72.550000   87.900000   94.950000   \n",
       "75%      5.880369   24100.000000   77.400000   97.700000   99.300000   \n",
       "max      7.603434  120000.000000   83.800000  100.000000  100.000000   \n",
       "\n",
       "         literacy  inequality        energy  childmortality   fertility  \\\n",
       "count  194.000000  194.000000    194.000000      194.000000  194.000000   \n",
       "mean    81.573826   38.579375   2183.725325       31.441451    2.835924   \n",
       "std     17.055722    7.257464   2618.536430       31.237992    1.336162   \n",
       "min     25.300000   16.600000      9.580000        2.200000    1.240000   \n",
       "25%     75.575000   34.000000    614.500000        8.200000    1.790000   \n",
       "50%     81.573826   38.579375   1565.000000       17.900000    2.415000   \n",
       "75%     95.375000   42.175000   2425.000000       49.225000    3.687500   \n",
       "max    100.000000   63.000000  18600.000000      137.000000    7.290000   \n",
       "\n",
       "                hiv   foodsupply    population  \n",
       "count  1.940000e+02   194.000000  1.940000e+02  \n",
       "mean   2.179917e+05  2845.952381  3.787195e+07  \n",
       "std    5.521169e+05   413.199619  1.419670e+08  \n",
       "min    6.000000e+01  1880.000000  1.100000e+04  \n",
       "25%    1.025000e+04  2570.000000  1.982500e+06  \n",
       "50%    7.000000e+04  2845.952381  8.435000e+06  \n",
       "75%    2.179917e+05  3140.000000  2.742500e+07  \n",
       "max    5.600000e+06  3770.000000  1.400000e+09  "
      ]
     },
     "execution_count": 19,
     "metadata": {},
     "output_type": "execute_result"
    }
   ],
   "source": [
    "# Compute descriptive stats\n",
    "dataset.describe()"
   ]
  },
  {
   "cell_type": "markdown",
   "metadata": {
    "id": "yvObKnbHok6V"
   },
   "source": [
    "### Visualise\n",
    "A correlation matrix can be used to spot correlations between the features.\n",
    "\n",
    "We hope to see some good correlations of lifeexp with other features, as that's the one we want to predict."
   ]
  },
  {
   "cell_type": "code",
   "execution_count": 20,
   "metadata": {
    "colab": {
     "base_uri": "https://localhost:8080/",
     "height": 819
    },
    "id": "LkwO5yHJok6V",
    "outputId": "9d53b4d4-7216-4857-a992-b7f0f49ce76d"
   },
   "outputs": [
    {
     "name": "stderr",
     "output_type": "stream",
     "text": [
      "C:\\Users\\hayth\\AppData\\Local\\Temp\\ipykernel_10384\\3032035654.py:3: FutureWarning: The default value of numeric_only in DataFrame.corr is deprecated. In a future version, it will default to False. Select only valid columns or specify the value of numeric_only to silence this warning.\n",
      "  sns.heatmap(dataset.corr(), vmin = -1, vmax = 1, cmap = 'RdYlBu', annot= True)\n"
     ]
    },
    {
     "data": {
      "image/png": "[encoded data removed]",
      "text/plain": [
       "<Figure size 800x800 with 2 Axes>"
      ]
     },
     "metadata": {},
     "output_type": "display_data"
    }
   ],
   "source": [
    "# Display a correlation matrix\n",
    "plt.figure(figsize = (8, 8))\n",
    "sns.heatmap(dataset.corr(), vmin = -1, vmax = 1, cmap = 'RdYlBu', annot= True)\n",
    "plt.show()"
   ]
  },
  {
   "cell_type": "markdown",
   "metadata": {
    "id": "iR_e6ZP2ok6W"
   },
   "source": [
    "> Look at the lifeexp column. You can see that sanitation, water, foodsupply, and happiness are in dark blue, indicating strong positive correlations with lifeexp. Childmortality and fertility are in dark red, indicating strong negative correlations with lifeexp. Do these observations fit with your understanding of factors that may influence life expectancy? If they do, that's good news as you can expect the model to pick this up and model your real-world understanding! This demonstrates the use of domain knowledge to the task in hand!"
   ]
  },
  {
   "cell_type": "markdown",
   "metadata": {
    "id": "VeQa7hJIok6W"
   },
   "source": [
    "We can also plot some boxplots to understand the distribution of each feature.  "
   ]
  },
  {
   "cell_type": "code",
   "execution_count": 21,
   "metadata": {
    "colab": {
     "base_uri": "https://localhost:8080/",
     "height": 1000
    },
    "id": "i_DSaPspok6W",
    "outputId": "14756a28-da43-47ea-c5ce-c1c2343f0616"
   },
   "outputs": [
    {
     "data": {
      "image/png": "[encoded data removed]",
      "text/plain": [
       "<Figure size 2000x2000 with 16 Axes>"
      ]
     },
     "metadata": {},
     "output_type": "display_data"
    }
   ],
   "source": [
    "# Display boxplots for each numeric feature\n",
    "dataset.plot(kind = 'box', subplots = True, figsize = (20, 20), layout=(4, 4))\n",
    "plt.show()"
   ]
  },
  {
   "cell_type": "markdown",
   "metadata": {
    "id": "kmJ2maOrok6W"
   },
   "source": [
    "## Prepare Data\n",
    "### Feature Engineering\n",
    "\n",
    "The task was defined as:\n",
    "\n",
    "> Make predictions about a country's life expectancy (L/M/H bands) from a set of metrics for the country.\n",
    "\n",
    "However, lifeexp is currently a continuous numeric feature. The data should be binned into L, M, and H bands.\n",
    "We need to create our banded lifeexp feature, which will be the target feature:"
   ]
  },
  {
   "cell_type": "code",
   "execution_count": 22,
   "metadata": {
    "id": "yNjljZkBok6X"
   },
   "outputs": [],
   "source": [
    "# Bin lifexp into L, M and H bands\n",
    "\n",
    "# compute the bin boundaries\n",
    "percentiles = np.linspace(0, 100, 4)\n",
    "bins = np.percentile(dataset[\"lifeexp\"], percentiles)\n",
    "\n",
    "# split the data into bins\n",
    "dataset[\"lifeexp_band\"] = pd.cut(dataset[\"lifeexp\"], bins = bins, labels = [\"L\",\"M\",\"H\"], include_lowest = True)"
   ]
  },
  {
   "cell_type": "code",
   "execution_count": 23,
   "metadata": {
    "colab": {
     "base_uri": "https://localhost:8080/"
    },
    "id": "VpQaXZmeSuk_",
    "outputId": "08617599-0d60-4d6e-bc2d-9cf532bc1866"
   },
   "outputs": [
    {
     "data": {
      "text/plain": [
       "array([49.6       , 69.93333333, 76.43333333, 83.8       ])"
      ]
     },
     "execution_count": 23,
     "metadata": {},
     "output_type": "execute_result"
    }
   ],
   "source": [
    "bins"
   ]
  },
  {
   "cell_type": "markdown",
   "metadata": {
    "id": "YF1Ok6nOok6X"
   },
   "source": [
    "Check we have an even distribution of rows across the bands:"
   ]
  },
  {
   "cell_type": "code",
   "execution_count": 24,
   "metadata": {
    "colab": {
     "base_uri": "https://localhost:8080/"
    },
    "id": "a66zp8baok6X",
    "outputId": "c83dd51d-bd56-43f7-c01b-f9f25ff95cd4"
   },
   "outputs": [
    {
     "data": {
      "text/plain": [
       "L    65\n",
       "H    65\n",
       "M    64\n",
       "Name: lifeexp_band, dtype: int64"
      ]
     },
     "execution_count": 24,
     "metadata": {},
     "output_type": "execute_result"
    }
   ],
   "source": [
    "# Check how many rows in each bin\n",
    "dataset.lifeexp_band.value_counts()"
   ]
  },
  {
   "cell_type": "markdown",
   "metadata": {
    "id": "LqVSUhPwok6X"
   },
   "source": [
    "And let's check a few rows to confirm it has done as expected:"
   ]
  },
  {
   "cell_type": "code",
   "execution_count": 25,
   "metadata": {
    "colab": {
     "base_uri": "https://localhost:8080/",
     "height": 424
    },
    "id": "yvCVy-rRok6X",
    "outputId": "aa902101-636c-4d97-bc8f-6b7c0ad9c591"
   },
   "outputs": [
    {
     "data": {
      "text/html": [
       "<div>\n",
       "<style scoped>\n",
       "    .dataframe tbody tr th:only-of-type {\n",
       "        vertical-align: middle;\n",
       "    }\n",
       "\n",
       "    .dataframe tbody tr th {\n",
       "        vertical-align: top;\n",
       "    }\n",
       "\n",
       "    .dataframe thead th {\n",
       "        text-align: right;\n",
       "    }\n",
       "</style>\n",
       "<table border=\"1\" class=\"dataframe\">\n",
       "  <thead>\n",
       "    <tr style=\"text-align: right;\">\n",
       "      <th></th>\n",
       "      <th>lifeexp</th>\n",
       "      <th>lifeexp_band</th>\n",
       "    </tr>\n",
       "  </thead>\n",
       "  <tbody>\n",
       "    <tr>\n",
       "      <th>0</th>\n",
       "      <td>57.90000</td>\n",
       "      <td>L</td>\n",
       "    </tr>\n",
       "    <tr>\n",
       "      <th>1</th>\n",
       "      <td>77.60000</td>\n",
       "      <td>H</td>\n",
       "    </tr>\n",
       "    <tr>\n",
       "      <th>2</th>\n",
       "      <td>76.50000</td>\n",
       "      <td>H</td>\n",
       "    </tr>\n",
       "    <tr>\n",
       "      <th>3</th>\n",
       "      <td>75.40000</td>\n",
       "      <td>M</td>\n",
       "    </tr>\n",
       "    <tr>\n",
       "      <th>4</th>\n",
       "      <td>82.60000</td>\n",
       "      <td>H</td>\n",
       "    </tr>\n",
       "    <tr>\n",
       "      <th>...</th>\n",
       "      <td>...</td>\n",
       "      <td>...</td>\n",
       "    </tr>\n",
       "    <tr>\n",
       "      <th>189</th>\n",
       "      <td>70.30000</td>\n",
       "      <td>M</td>\n",
       "    </tr>\n",
       "    <tr>\n",
       "      <th>190</th>\n",
       "      <td>73.10000</td>\n",
       "      <td>M</td>\n",
       "    </tr>\n",
       "    <tr>\n",
       "      <th>191</th>\n",
       "      <td>71.93369</td>\n",
       "      <td>M</td>\n",
       "    </tr>\n",
       "    <tr>\n",
       "      <th>192</th>\n",
       "      <td>63.60000</td>\n",
       "      <td>L</td>\n",
       "    </tr>\n",
       "    <tr>\n",
       "      <th>193</th>\n",
       "      <td>71.93369</td>\n",
       "      <td>M</td>\n",
       "    </tr>\n",
       "  </tbody>\n",
       "</table>\n",
       "<p>194 rows × 2 columns</p>\n",
       "</div>"
      ],
      "text/plain": [
       "      lifeexp lifeexp_band\n",
       "0    57.90000            L\n",
       "1    77.60000            H\n",
       "2    76.50000            H\n",
       "3    75.40000            M\n",
       "4    82.60000            H\n",
       "..        ...          ...\n",
       "189  70.30000            M\n",
       "190  73.10000            M\n",
       "191  71.93369            M\n",
       "192  63.60000            L\n",
       "193  71.93369            M\n",
       "\n",
       "[194 rows x 2 columns]"
      ]
     },
     "execution_count": 25,
     "metadata": {},
     "output_type": "execute_result"
    }
   ],
   "source": [
    "# Check the binning has worked as expected\n",
    "dataset[['lifeexp','lifeexp_band']]"
   ]
  },
  {
   "cell_type": "markdown",
   "metadata": {
    "id": "9k1O3cokok6Y"
   },
   "source": [
    "\n",
    "### Select features and split into input and target features\n",
    "Now we need to decide which columns to use as inputs and which is our target.  Let's remind ourselves of the columns we have:"
   ]
  },
  {
   "cell_type": "code",
   "execution_count": 26,
   "metadata": {
    "colab": {
     "base_uri": "https://localhost:8080/"
    },
    "id": "8mmQndp4ok6Y",
    "outputId": "862a92b1-e85f-45ee-b0b6-e811b49b182d"
   },
   "outputs": [
    {
     "data": {
      "text/plain": [
       "Index(['country', 'happiness', 'income', 'lifeexp', 'sanitation', 'water',\n",
       "       'literacy', 'inequality', 'energy', 'childmortality', 'fertility',\n",
       "       'hiv', 'foodsupply', 'population', 'lifeexp_band'],\n",
       "      dtype='object')"
      ]
     },
     "execution_count": 26,
     "metadata": {},
     "output_type": "execute_result"
    }
   ],
   "source": [
    "dataset.columns"
   ]
  },
  {
   "cell_type": "markdown",
   "metadata": {
    "id": "fmU8gPFkok6Y"
   },
   "source": [
    "And let's select **lifeexp_band** as our target feature (the one we will predict) and everything else as the input features (the ones we will use to make the prediction)."
   ]
  },
  {
   "cell_type": "code",
   "execution_count": 27,
   "metadata": {
    "id": "ystE4SFAok6Y"
   },
   "outputs": [],
   "source": [
    "# Split into input and target features\n",
    "y = dataset[\"lifeexp_band\"]\n",
    "X = dataset[['happiness', 'income', 'sanitation', 'water', 'childmortality', 'fertility',  'hiv', 'foodsupply', 'population']]"
   ]
  },
  {
   "cell_type": "code",
   "execution_count": 28,
   "metadata": {
    "colab": {
     "base_uri": "https://localhost:8080/",
     "height": 206
    },
    "id": "mTQuCoFNok6Z",
    "outputId": "d4662cd8-de52-451c-b857-fa7a0bebedec"
   },
   "outputs": [
    {
     "data": {
      "text/html": [
       "<div>\n",
       "<style scoped>\n",
       "    .dataframe tbody tr th:only-of-type {\n",
       "        vertical-align: middle;\n",
       "    }\n",
       "\n",
       "    .dataframe tbody tr th {\n",
       "        vertical-align: top;\n",
       "    }\n",
       "\n",
       "    .dataframe thead th {\n",
       "        text-align: right;\n",
       "    }\n",
       "</style>\n",
       "<table border=\"1\" class=\"dataframe\">\n",
       "  <thead>\n",
       "    <tr style=\"text-align: right;\">\n",
       "      <th></th>\n",
       "      <th>happiness</th>\n",
       "      <th>income</th>\n",
       "      <th>sanitation</th>\n",
       "      <th>water</th>\n",
       "      <th>childmortality</th>\n",
       "      <th>fertility</th>\n",
       "      <th>hiv</th>\n",
       "      <th>foodsupply</th>\n",
       "      <th>population</th>\n",
       "    </tr>\n",
       "  </thead>\n",
       "  <tbody>\n",
       "    <tr>\n",
       "      <th>0</th>\n",
       "      <td>3.982855</td>\n",
       "      <td>1750.0</td>\n",
       "      <td>39.2</td>\n",
       "      <td>63.0</td>\n",
       "      <td>73.2</td>\n",
       "      <td>4.80</td>\n",
       "      <td>5800.000000</td>\n",
       "      <td>2090.0</td>\n",
       "      <td>33700000</td>\n",
       "    </tr>\n",
       "    <tr>\n",
       "      <th>1</th>\n",
       "      <td>4.606651</td>\n",
       "      <td>11000.0</td>\n",
       "      <td>97.7</td>\n",
       "      <td>91.4</td>\n",
       "      <td>14.0</td>\n",
       "      <td>1.71</td>\n",
       "      <td>217991.677852</td>\n",
       "      <td>3190.0</td>\n",
       "      <td>2920000</td>\n",
       "    </tr>\n",
       "    <tr>\n",
       "      <th>2</th>\n",
       "      <td>6.697131</td>\n",
       "      <td>19100.0</td>\n",
       "      <td>94.8</td>\n",
       "      <td>99.6</td>\n",
       "      <td>11.6</td>\n",
       "      <td>2.31</td>\n",
       "      <td>95000.000000</td>\n",
       "      <td>3230.0</td>\n",
       "      <td>43400000</td>\n",
       "    </tr>\n",
       "    <tr>\n",
       "      <th>3</th>\n",
       "      <td>4.348320</td>\n",
       "      <td>8180.0</td>\n",
       "      <td>91.6</td>\n",
       "      <td>98.9</td>\n",
       "      <td>14.0</td>\n",
       "      <td>1.66</td>\n",
       "      <td>3600.000000</td>\n",
       "      <td>2930.0</td>\n",
       "      <td>2920000</td>\n",
       "    </tr>\n",
       "    <tr>\n",
       "      <th>4</th>\n",
       "      <td>7.309061</td>\n",
       "      <td>43800.0</td>\n",
       "      <td>100.0</td>\n",
       "      <td>100.0</td>\n",
       "      <td>3.8</td>\n",
       "      <td>1.86</td>\n",
       "      <td>22000.000000</td>\n",
       "      <td>3280.0</td>\n",
       "      <td>23800000</td>\n",
       "    </tr>\n",
       "  </tbody>\n",
       "</table>\n",
       "</div>"
      ],
      "text/plain": [
       "   happiness   income  sanitation  water  childmortality  fertility  \\\n",
       "0   3.982855   1750.0        39.2   63.0            73.2       4.80   \n",
       "1   4.606651  11000.0        97.7   91.4            14.0       1.71   \n",
       "2   6.697131  19100.0        94.8   99.6            11.6       2.31   \n",
       "3   4.348320   8180.0        91.6   98.9            14.0       1.66   \n",
       "4   7.309061  43800.0       100.0  100.0             3.8       1.86   \n",
       "\n",
       "             hiv  foodsupply  population  \n",
       "0    5800.000000      2090.0    33700000  \n",
       "1  217991.677852      3190.0     2920000  \n",
       "2   95000.000000      3230.0    43400000  \n",
       "3    3600.000000      2930.0     2920000  \n",
       "4   22000.000000      3280.0    23800000  "
      ]
     },
     "execution_count": 28,
     "metadata": {},
     "output_type": "execute_result"
    }
   ],
   "source": [
    "X.head()"
   ]
  },
  {
   "cell_type": "code",
   "execution_count": 29,
   "metadata": {
    "colab": {
     "base_uri": "https://localhost:8080/"
    },
    "id": "C-OutxGsok6Z",
    "outputId": "6fcd84bf-361d-44c9-daed-379a8152f037"
   },
   "outputs": [
    {
     "data": {
      "text/plain": [
       "0    L\n",
       "1    H\n",
       "2    H\n",
       "3    M\n",
       "4    H\n",
       "Name: lifeexp_band, dtype: category\n",
       "Categories (3, object): ['L' < 'M' < 'H']"
      ]
     },
     "execution_count": 29,
     "metadata": {},
     "output_type": "execute_result"
    }
   ],
   "source": [
    "y.head()"
   ]
  },
  {
   "cell_type": "markdown",
   "metadata": {
    "id": "oDQJtzvyok6Z"
   },
   "source": [
    "###  Scale features\n",
    "When we ran `dataset.describe()` above we saw that the range of values between the min and max was different for different features.  "
   ]
  },
  {
   "cell_type": "code",
   "execution_count": 30,
   "metadata": {
    "colab": {
     "base_uri": "https://localhost:8080/",
     "height": 300
    },
    "id": "01NMWXXmok6Z",
    "outputId": "164f817f-438c-453f-edf9-9a4de553ffbb"
   },
   "outputs": [
    {
     "data": {
      "text/html": [
       "<div>\n",
       "<style scoped>\n",
       "    .dataframe tbody tr th:only-of-type {\n",
       "        vertical-align: middle;\n",
       "    }\n",
       "\n",
       "    .dataframe tbody tr th {\n",
       "        vertical-align: top;\n",
       "    }\n",
       "\n",
       "    .dataframe thead th {\n",
       "        text-align: right;\n",
       "    }\n",
       "</style>\n",
       "<table border=\"1\" class=\"dataframe\">\n",
       "  <thead>\n",
       "    <tr style=\"text-align: right;\">\n",
       "      <th></th>\n",
       "      <th>happiness</th>\n",
       "      <th>income</th>\n",
       "      <th>sanitation</th>\n",
       "      <th>water</th>\n",
       "      <th>childmortality</th>\n",
       "      <th>fertility</th>\n",
       "      <th>hiv</th>\n",
       "      <th>foodsupply</th>\n",
       "      <th>population</th>\n",
       "    </tr>\n",
       "  </thead>\n",
       "  <tbody>\n",
       "    <tr>\n",
       "      <th>count</th>\n",
       "      <td>194.000000</td>\n",
       "      <td>194.000000</td>\n",
       "      <td>194.000000</td>\n",
       "      <td>194.000000</td>\n",
       "      <td>194.000000</td>\n",
       "      <td>194.000000</td>\n",
       "      <td>1.940000e+02</td>\n",
       "      <td>194.000000</td>\n",
       "      <td>1.940000e+02</td>\n",
       "    </tr>\n",
       "    <tr>\n",
       "      <th>mean</th>\n",
       "      <td>5.395765</td>\n",
       "      <td>17432.849741</td>\n",
       "      <td>73.838247</td>\n",
       "      <td>86.329381</td>\n",
       "      <td>31.441451</td>\n",
       "      <td>2.835924</td>\n",
       "      <td>2.179917e+05</td>\n",
       "      <td>2845.952381</td>\n",
       "      <td>3.787195e+07</td>\n",
       "    </tr>\n",
       "    <tr>\n",
       "      <th>std</th>\n",
       "      <td>0.953547</td>\n",
       "      <td>19072.580021</td>\n",
       "      <td>29.269367</td>\n",
       "      <td>17.568245</td>\n",
       "      <td>31.237992</td>\n",
       "      <td>1.336162</td>\n",
       "      <td>5.521169e+05</td>\n",
       "      <td>413.199619</td>\n",
       "      <td>1.419670e+08</td>\n",
       "    </tr>\n",
       "    <tr>\n",
       "      <th>min</th>\n",
       "      <td>2.701591</td>\n",
       "      <td>623.000000</td>\n",
       "      <td>7.080000</td>\n",
       "      <td>19.300000</td>\n",
       "      <td>2.200000</td>\n",
       "      <td>1.240000</td>\n",
       "      <td>6.000000e+01</td>\n",
       "      <td>1880.000000</td>\n",
       "      <td>1.100000e+04</td>\n",
       "    </tr>\n",
       "    <tr>\n",
       "      <th>25%</th>\n",
       "      <td>4.891838</td>\n",
       "      <td>3297.500000</td>\n",
       "      <td>49.225000</td>\n",
       "      <td>77.900000</td>\n",
       "      <td>8.200000</td>\n",
       "      <td>1.790000</td>\n",
       "      <td>1.025000e+04</td>\n",
       "      <td>2570.000000</td>\n",
       "      <td>1.982500e+06</td>\n",
       "    </tr>\n",
       "    <tr>\n",
       "      <th>50%</th>\n",
       "      <td>5.395765</td>\n",
       "      <td>11050.000000</td>\n",
       "      <td>87.900000</td>\n",
       "      <td>94.950000</td>\n",
       "      <td>17.900000</td>\n",
       "      <td>2.415000</td>\n",
       "      <td>7.000000e+04</td>\n",
       "      <td>2845.952381</td>\n",
       "      <td>8.435000e+06</td>\n",
       "    </tr>\n",
       "    <tr>\n",
       "      <th>75%</th>\n",
       "      <td>5.880369</td>\n",
       "      <td>24100.000000</td>\n",
       "      <td>97.700000</td>\n",
       "      <td>99.300000</td>\n",
       "      <td>49.225000</td>\n",
       "      <td>3.687500</td>\n",
       "      <td>2.179917e+05</td>\n",
       "      <td>3140.000000</td>\n",
       "      <td>2.742500e+07</td>\n",
       "    </tr>\n",
       "    <tr>\n",
       "      <th>max</th>\n",
       "      <td>7.603434</td>\n",
       "      <td>120000.000000</td>\n",
       "      <td>100.000000</td>\n",
       "      <td>100.000000</td>\n",
       "      <td>137.000000</td>\n",
       "      <td>7.290000</td>\n",
       "      <td>5.600000e+06</td>\n",
       "      <td>3770.000000</td>\n",
       "      <td>1.400000e+09</td>\n",
       "    </tr>\n",
       "  </tbody>\n",
       "</table>\n",
       "</div>"
      ],
      "text/plain": [
       "        happiness         income  sanitation       water  childmortality  \\\n",
       "count  194.000000     194.000000  194.000000  194.000000      194.000000   \n",
       "mean     5.395765   17432.849741   73.838247   86.329381       31.441451   \n",
       "std      0.953547   19072.580021   29.269367   17.568245       31.237992   \n",
       "min      2.701591     623.000000    7.080000   19.300000        2.200000   \n",
       "25%      4.891838    3297.500000   49.225000   77.900000        8.200000   \n",
       "50%      5.395765   11050.000000   87.900000   94.950000       17.900000   \n",
       "75%      5.880369   24100.000000   97.700000   99.300000       49.225000   \n",
       "max      7.603434  120000.000000  100.000000  100.000000      137.000000   \n",
       "\n",
       "        fertility           hiv   foodsupply    population  \n",
       "count  194.000000  1.940000e+02   194.000000  1.940000e+02  \n",
       "mean     2.835924  2.179917e+05  2845.952381  3.787195e+07  \n",
       "std      1.336162  5.521169e+05   413.199619  1.419670e+08  \n",
       "min      1.240000  6.000000e+01  1880.000000  1.100000e+04  \n",
       "25%      1.790000  1.025000e+04  2570.000000  1.982500e+06  \n",
       "50%      2.415000  7.000000e+04  2845.952381  8.435000e+06  \n",
       "75%      3.687500  2.179917e+05  3140.000000  2.742500e+07  \n",
       "max      7.290000  5.600000e+06  3770.000000  1.400000e+09  "
      ]
     },
     "execution_count": 30,
     "metadata": {},
     "output_type": "execute_result"
    }
   ],
   "source": [
    "X.describe()"
   ]
  },
  {
   "cell_type": "markdown",
   "metadata": {
    "id": "2uKbpM3Pok6Z"
   },
   "source": [
    "Many algorithms will not perform at their best when presented with such data, so we will scale the data to all be in the range 0 to 1:"
   ]
  },
  {
   "cell_type": "code",
   "execution_count": 31,
   "metadata": {
    "id": "F9e1gdq_ok6a"
   },
   "outputs": [],
   "source": [
    "# Rescale the data\n",
    "scaler = MinMaxScaler(feature_range=(0,1))\n",
    "rescaledX = scaler.fit_transform(X)\n",
    "\n",
    "# Convert X back to a Pandas DataFrame, for convenience\n",
    "X = pd.DataFrame(rescaledX, columns=X.columns)"
   ]
  },
  {
   "cell_type": "markdown",
   "metadata": {
    "id": "uyVYdFoaok6a"
   },
   "source": [
    "We can now see every feature now has a min of 0 and a max of 1:"
   ]
  },
  {
   "cell_type": "code",
   "execution_count": 32,
   "metadata": {
    "colab": {
     "base_uri": "https://localhost:8080/",
     "height": 206
    },
    "id": "5Vd5onRxDMbr",
    "outputId": "a48a6692-ede4-4d2e-d05c-04e814bb09e4"
   },
   "outputs": [
    {
     "data": {
      "text/html": [
       "<div>\n",
       "<style scoped>\n",
       "    .dataframe tbody tr th:only-of-type {\n",
       "        vertical-align: middle;\n",
       "    }\n",
       "\n",
       "    .dataframe tbody tr th {\n",
       "        vertical-align: top;\n",
       "    }\n",
       "\n",
       "    .dataframe thead th {\n",
       "        text-align: right;\n",
       "    }\n",
       "</style>\n",
       "<table border=\"1\" class=\"dataframe\">\n",
       "  <thead>\n",
       "    <tr style=\"text-align: right;\">\n",
       "      <th></th>\n",
       "      <th>happiness</th>\n",
       "      <th>income</th>\n",
       "      <th>sanitation</th>\n",
       "      <th>water</th>\n",
       "      <th>childmortality</th>\n",
       "      <th>fertility</th>\n",
       "      <th>hiv</th>\n",
       "      <th>foodsupply</th>\n",
       "      <th>population</th>\n",
       "    </tr>\n",
       "  </thead>\n",
       "  <tbody>\n",
       "    <tr>\n",
       "      <th>0</th>\n",
       "      <td>0.261384</td>\n",
       "      <td>0.009441</td>\n",
       "      <td>0.345674</td>\n",
       "      <td>0.541512</td>\n",
       "      <td>0.526706</td>\n",
       "      <td>0.588430</td>\n",
       "      <td>0.001025</td>\n",
       "      <td>0.111111</td>\n",
       "      <td>0.024064</td>\n",
       "    </tr>\n",
       "    <tr>\n",
       "      <th>1</th>\n",
       "      <td>0.388642</td>\n",
       "      <td>0.086926</td>\n",
       "      <td>0.975248</td>\n",
       "      <td>0.893432</td>\n",
       "      <td>0.087537</td>\n",
       "      <td>0.077686</td>\n",
       "      <td>0.038917</td>\n",
       "      <td>0.693122</td>\n",
       "      <td>0.002078</td>\n",
       "    </tr>\n",
       "    <tr>\n",
       "      <th>2</th>\n",
       "      <td>0.815110</td>\n",
       "      <td>0.154779</td>\n",
       "      <td>0.944038</td>\n",
       "      <td>0.995043</td>\n",
       "      <td>0.069733</td>\n",
       "      <td>0.176860</td>\n",
       "      <td>0.016954</td>\n",
       "      <td>0.714286</td>\n",
       "      <td>0.030992</td>\n",
       "    </tr>\n",
       "    <tr>\n",
       "      <th>3</th>\n",
       "      <td>0.335941</td>\n",
       "      <td>0.063304</td>\n",
       "      <td>0.909600</td>\n",
       "      <td>0.986369</td>\n",
       "      <td>0.087537</td>\n",
       "      <td>0.069421</td>\n",
       "      <td>0.000632</td>\n",
       "      <td>0.555556</td>\n",
       "      <td>0.002078</td>\n",
       "    </tr>\n",
       "    <tr>\n",
       "      <th>4</th>\n",
       "      <td>0.939946</td>\n",
       "      <td>0.361686</td>\n",
       "      <td>1.000000</td>\n",
       "      <td>1.000000</td>\n",
       "      <td>0.011869</td>\n",
       "      <td>0.102479</td>\n",
       "      <td>0.003918</td>\n",
       "      <td>0.740741</td>\n",
       "      <td>0.016992</td>\n",
       "    </tr>\n",
       "  </tbody>\n",
       "</table>\n",
       "</div>"
      ],
      "text/plain": [
       "   happiness    income  sanitation     water  childmortality  fertility  \\\n",
       "0   0.261384  0.009441    0.345674  0.541512        0.526706   0.588430   \n",
       "1   0.388642  0.086926    0.975248  0.893432        0.087537   0.077686   \n",
       "2   0.815110  0.154779    0.944038  0.995043        0.069733   0.176860   \n",
       "3   0.335941  0.063304    0.909600  0.986369        0.087537   0.069421   \n",
       "4   0.939946  0.361686    1.000000  1.000000        0.011869   0.102479   \n",
       "\n",
       "        hiv  foodsupply  population  \n",
       "0  0.001025    0.111111    0.024064  \n",
       "1  0.038917    0.693122    0.002078  \n",
       "2  0.016954    0.714286    0.030992  \n",
       "3  0.000632    0.555556    0.002078  \n",
       "4  0.003918    0.740741    0.016992  "
      ]
     },
     "execution_count": 32,
     "metadata": {},
     "output_type": "execute_result"
    }
   ],
   "source": [
    "X.head()"
   ]
  },
  {
   "cell_type": "code",
   "execution_count": 33,
   "metadata": {
    "colab": {
     "base_uri": "https://localhost:8080/",
     "height": 300
    },
    "id": "7XloimA8ok6a",
    "outputId": "e01aac28-c5d4-4af3-f0de-308762eff8aa"
   },
   "outputs": [
    {
     "data": {
      "text/html": [
       "<div>\n",
       "<style scoped>\n",
       "    .dataframe tbody tr th:only-of-type {\n",
       "        vertical-align: middle;\n",
       "    }\n",
       "\n",
       "    .dataframe tbody tr th {\n",
       "        vertical-align: top;\n",
       "    }\n",
       "\n",
       "    .dataframe thead th {\n",
       "        text-align: right;\n",
       "    }\n",
       "</style>\n",
       "<table border=\"1\" class=\"dataframe\">\n",
       "  <thead>\n",
       "    <tr style=\"text-align: right;\">\n",
       "      <th></th>\n",
       "      <th>happiness</th>\n",
       "      <th>income</th>\n",
       "      <th>sanitation</th>\n",
       "      <th>water</th>\n",
       "      <th>childmortality</th>\n",
       "      <th>fertility</th>\n",
       "      <th>hiv</th>\n",
       "      <th>foodsupply</th>\n",
       "      <th>population</th>\n",
       "    </tr>\n",
       "  </thead>\n",
       "  <tbody>\n",
       "    <tr>\n",
       "      <th>count</th>\n",
       "      <td>194.000000</td>\n",
       "      <td>194.000000</td>\n",
       "      <td>194.000000</td>\n",
       "      <td>194.000000</td>\n",
       "      <td>194.000000</td>\n",
       "      <td>194.000000</td>\n",
       "      <td>194.000000</td>\n",
       "      <td>194.000000</td>\n",
       "      <td>194.000000</td>\n",
       "    </tr>\n",
       "    <tr>\n",
       "      <th>mean</th>\n",
       "      <td>0.549625</td>\n",
       "      <td>0.140813</td>\n",
       "      <td>0.718449</td>\n",
       "      <td>0.830600</td>\n",
       "      <td>0.216925</td>\n",
       "      <td>0.263789</td>\n",
       "      <td>0.038917</td>\n",
       "      <td>0.511086</td>\n",
       "      <td>0.027044</td>\n",
       "    </tr>\n",
       "    <tr>\n",
       "      <th>std</th>\n",
       "      <td>0.194528</td>\n",
       "      <td>0.159768</td>\n",
       "      <td>0.314995</td>\n",
       "      <td>0.217698</td>\n",
       "      <td>0.231736</td>\n",
       "      <td>0.220853</td>\n",
       "      <td>0.098593</td>\n",
       "      <td>0.218624</td>\n",
       "      <td>0.101406</td>\n",
       "    </tr>\n",
       "    <tr>\n",
       "      <th>min</th>\n",
       "      <td>0.000000</td>\n",
       "      <td>0.000000</td>\n",
       "      <td>0.000000</td>\n",
       "      <td>0.000000</td>\n",
       "      <td>0.000000</td>\n",
       "      <td>0.000000</td>\n",
       "      <td>0.000000</td>\n",
       "      <td>0.000000</td>\n",
       "      <td>0.000000</td>\n",
       "    </tr>\n",
       "    <tr>\n",
       "      <th>25%</th>\n",
       "      <td>0.446821</td>\n",
       "      <td>0.022404</td>\n",
       "      <td>0.453562</td>\n",
       "      <td>0.726146</td>\n",
       "      <td>0.044510</td>\n",
       "      <td>0.090909</td>\n",
       "      <td>0.001820</td>\n",
       "      <td>0.365079</td>\n",
       "      <td>0.001408</td>\n",
       "    </tr>\n",
       "    <tr>\n",
       "      <th>50%</th>\n",
       "      <td>0.549625</td>\n",
       "      <td>0.087345</td>\n",
       "      <td>0.869780</td>\n",
       "      <td>0.937423</td>\n",
       "      <td>0.116469</td>\n",
       "      <td>0.194215</td>\n",
       "      <td>0.012489</td>\n",
       "      <td>0.511086</td>\n",
       "      <td>0.006017</td>\n",
       "    </tr>\n",
       "    <tr>\n",
       "      <th>75%</th>\n",
       "      <td>0.648486</td>\n",
       "      <td>0.196663</td>\n",
       "      <td>0.975248</td>\n",
       "      <td>0.991326</td>\n",
       "      <td>0.348850</td>\n",
       "      <td>0.404545</td>\n",
       "      <td>0.038917</td>\n",
       "      <td>0.666667</td>\n",
       "      <td>0.019582</td>\n",
       "    </tr>\n",
       "    <tr>\n",
       "      <th>max</th>\n",
       "      <td>1.000000</td>\n",
       "      <td>1.000000</td>\n",
       "      <td>1.000000</td>\n",
       "      <td>1.000000</td>\n",
       "      <td>1.000000</td>\n",
       "      <td>1.000000</td>\n",
       "      <td>1.000000</td>\n",
       "      <td>1.000000</td>\n",
       "      <td>1.000000</td>\n",
       "    </tr>\n",
       "  </tbody>\n",
       "</table>\n",
       "</div>"
      ],
      "text/plain": [
       "        happiness      income  sanitation       water  childmortality  \\\n",
       "count  194.000000  194.000000  194.000000  194.000000      194.000000   \n",
       "mean     0.549625    0.140813    0.718449    0.830600        0.216925   \n",
       "std      0.194528    0.159768    0.314995    0.217698        0.231736   \n",
       "min      0.000000    0.000000    0.000000    0.000000        0.000000   \n",
       "25%      0.446821    0.022404    0.453562    0.726146        0.044510   \n",
       "50%      0.549625    0.087345    0.869780    0.937423        0.116469   \n",
       "75%      0.648486    0.196663    0.975248    0.991326        0.348850   \n",
       "max      1.000000    1.000000    1.000000    1.000000        1.000000   \n",
       "\n",
       "        fertility         hiv  foodsupply  population  \n",
       "count  194.000000  194.000000  194.000000  194.000000  \n",
       "mean     0.263789    0.038917    0.511086    0.027044  \n",
       "std      0.220853    0.098593    0.218624    0.101406  \n",
       "min      0.000000    0.000000    0.000000    0.000000  \n",
       "25%      0.090909    0.001820    0.365079    0.001408  \n",
       "50%      0.194215    0.012489    0.511086    0.006017  \n",
       "75%      0.404545    0.038917    0.666667    0.019582  \n",
       "max      1.000000    1.000000    1.000000    1.000000  "
      ]
     },
     "execution_count": 33,
     "metadata": {},
     "output_type": "execute_result"
    }
   ],
   "source": [
    "X.describe()"
   ]
  },
  {
   "cell_type": "markdown",
   "metadata": {
    "id": "mbnhtIgJok6a"
   },
   "source": [
    "## Build Models\n",
    "Build both decision trees and logistic regression models and see which one performs the best.\n",
    "\n",
    "\n",
    "### Split into test and training sets\n",
    "We want both models to have a fair opportunity to triumph! So we need to present both with identical training and test sets. We will generate them once, using a specific seed, so we can get the same random sample each time we run this code."
   ]
  },
  {
   "cell_type": "code",
   "execution_count": 34,
   "metadata": {
    "id": "W09erWVXok6a"
   },
   "outputs": [],
   "source": [
    "# Split into test and training sets\n",
    "test_size = 0.33\n",
    "seed = 1\n",
    "X_train, X_test, Y_train, Y_test =  train_test_split(X, y, test_size=test_size, random_state=seed)"
   ]
  },
  {
   "cell_type": "markdown",
   "metadata": {
    "id": "fji-vKSFKSF4"
   },
   "source": []
  },
  {
   "cell_type": "markdown",
   "metadata": {
    "id": "Y8m65tR3ok6b"
   },
   "source": [
    "### Create multiple models and fit them\n",
    "Let's build both models and fit with the training data."
   ]
  },
  {
   "cell_type": "code",
   "execution_count": 35,
   "metadata": {
    "colab": {
     "base_uri": "https://localhost:8080/",
     "height": 75
    },
    "id": "4vt-Xe8Nok6b",
    "outputId": "1c591d42-4355-4e75-894c-18e5a8624155"
   },
   "outputs": [
    {
     "data": {
      "text/html": [
       "<style>#sk-container-id-1 {color: black;}#sk-container-id-1 pre{padding: 0;}#sk-container-id-1 div.sk-toggleable {background-color: white;}#sk-container-id-1 label.sk-toggleable__label {cursor: pointer;display: block;width: 100%;margin-bottom: 0;padding: 0.3em;box-sizing: border-box;text-align: center;}#sk-container-id-1 label.sk-toggleable__label-arrow:before {content: \"▸\";float: left;margin-right: 0.25em;color: #696969;}#sk-container-id-1 label.sk-toggleable__label-arrow:hover:before {color: black;}#sk-container-id-1 div.sk-estimator:hover label.sk-toggleable__label-arrow:before {color: black;}#sk-container-id-1 div.sk-toggleable__content {max-height: 0;max-width: 0;overflow: hidden;text-align: left;background-color: #f0f8ff;}#sk-container-id-1 div.sk-toggleable__content pre {margin: 0.2em;color: black;border-radius: 0.25em;background-color: #f0f8ff;}#sk-container-id-1 input.sk-toggleable__control:checked~div.sk-toggleable__content {max-height: 200px;max-width: 100%;overflow: auto;}#sk-container-id-1 input.sk-toggleable__control:checked~label.sk-toggleable__label-arrow:before {content: \"▾\";}#sk-container-id-1 div.sk-estimator input.sk-toggleable__control:checked~label.sk-toggleable__label {background-color: #d4ebff;}#sk-container-id-1 div.sk-label input.sk-toggleable__control:checked~label.sk-toggleable__label {background-color: #d4ebff;}#sk-container-id-1 input.sk-hidden--visually {border: 0;clip: rect(1px 1px 1px 1px);clip: rect(1px, 1px, 1px, 1px);height: 1px;margin: -1px;overflow: hidden;padding: 0;position: absolute;width: 1px;}#sk-container-id-1 div.sk-estimator {font-family: monospace;background-color: #f0f8ff;border: 1px dotted black;border-radius: 0.25em;box-sizing: border-box;margin-bottom: 0.5em;}#sk-container-id-1 div.sk-estimator:hover {background-color: #d4ebff;}#sk-container-id-1 div.sk-parallel-item::after {content: \"\";width: 100%;border-bottom: 1px solid gray;flex-grow: 1;}#sk-container-id-1 div.sk-label:hover label.sk-toggleable__label {background-color: #d4ebff;}#sk-container-id-1 div.sk-serial::before {content: \"\";position: absolute;border-left: 1px solid gray;box-sizing: border-box;top: 0;bottom: 0;left: 50%;z-index: 0;}#sk-container-id-1 div.sk-serial {display: flex;flex-direction: column;align-items: center;background-color: white;padding-right: 0.2em;padding-left: 0.2em;position: relative;}#sk-container-id-1 div.sk-item {position: relative;z-index: 1;}#sk-container-id-1 div.sk-parallel {display: flex;align-items: stretch;justify-content: center;background-color: white;position: relative;}#sk-container-id-1 div.sk-item::before, #sk-container-id-1 div.sk-parallel-item::before {content: \"\";position: absolute;border-left: 1px solid gray;box-sizing: border-box;top: 0;bottom: 0;left: 50%;z-index: -1;}#sk-container-id-1 div.sk-parallel-item {display: flex;flex-direction: column;z-index: 1;position: relative;background-color: white;}#sk-container-id-1 div.sk-parallel-item:first-child::after {align-self: flex-end;width: 50%;}#sk-container-id-1 div.sk-parallel-item:last-child::after {align-self: flex-start;width: 50%;}#sk-container-id-1 div.sk-parallel-item:only-child::after {width: 0;}#sk-container-id-1 div.sk-dashed-wrapped {border: 1px dashed gray;margin: 0 0.4em 0.5em 0.4em;box-sizing: border-box;padding-bottom: 0.4em;background-color: white;}#sk-container-id-1 div.sk-label label {font-family: monospace;font-weight: bold;display: inline-block;line-height: 1.2em;}#sk-container-id-1 div.sk-label-container {text-align: center;}#sk-container-id-1 div.sk-container {/* jupyter's `normalize.less` sets `[hidden] { display: none; }` but bootstrap.min.css set `[hidden] { display: none !important; }` so we also need the `!important` here to be able to override the default hidden behavior on the sphinx rendered scikit-learn.org. See: https://github.com/scikit-learn/scikit-learn/issues/21755 */display: inline-block !important;position: relative;}#sk-container-id-1 div.sk-text-repr-fallback {display: none;}</style><div id=\"sk-container-id-1\" class=\"sk-top-container\"><div class=\"sk-text-repr-fallback\"><pre>DecisionTreeClassifier(max_depth=3)</pre><b>In a Jupyter environment, please rerun this cell to show the HTML representation or trust the notebook. <br />On GitHub, the HTML representation is unable to render, please try loading this page with nbviewer.org.</b></div><div class=\"sk-container\" hidden><div class=\"sk-item\"><div class=\"sk-estimator sk-toggleable\"><input class=\"sk-toggleable__control sk-hidden--visually\" id=\"sk-estimator-id-1\" type=\"checkbox\" checked><label for=\"sk-estimator-id-1\" class=\"sk-toggleable__label sk-toggleable__label-arrow\">DecisionTreeClassifier</label><div class=\"sk-toggleable__content\"><pre>DecisionTreeClassifier(max_depth=3)</pre></div></div></div></div></div>"
      ],
      "text/plain": [
       "DecisionTreeClassifier(max_depth=3)"
      ]
     },
     "execution_count": 35,
     "metadata": {},
     "output_type": "execute_result"
    }
   ],
   "source": [
    "# Build a decision tree model\n",
    "model_dt = DecisionTreeClassifier(max_depth= 3)\n",
    "model_dt.fit(X_train, Y_train)"
   ]
  },
  {
   "cell_type": "code",
   "execution_count": 36,
   "metadata": {
    "colab": {
     "base_uri": "https://localhost:8080/",
     "height": 75
    },
    "id": "UKBN0u5dok6b",
    "outputId": "a3f3deb9-b3bb-4c06-d69f-a3070052a076"
   },
   "outputs": [
    {
     "data": {
      "text/html": [
       "<style>#sk-container-id-2 {color: black;}#sk-container-id-2 pre{padding: 0;}#sk-container-id-2 div.sk-toggleable {background-color: white;}#sk-container-id-2 label.sk-toggleable__label {cursor: pointer;display: block;width: 100%;margin-bottom: 0;padding: 0.3em;box-sizing: border-box;text-align: center;}#sk-container-id-2 label.sk-toggleable__label-arrow:before {content: \"▸\";float: left;margin-right: 0.25em;color: #696969;}#sk-container-id-2 label.sk-toggleable__label-arrow:hover:before {color: black;}#sk-container-id-2 div.sk-estimator:hover label.sk-toggleable__label-arrow:before {color: black;}#sk-container-id-2 div.sk-toggleable__content {max-height: 0;max-width: 0;overflow: hidden;text-align: left;background-color: #f0f8ff;}#sk-container-id-2 div.sk-toggleable__content pre {margin: 0.2em;color: black;border-radius: 0.25em;background-color: #f0f8ff;}#sk-container-id-2 input.sk-toggleable__control:checked~div.sk-toggleable__content {max-height: 200px;max-width: 100%;overflow: auto;}#sk-container-id-2 input.sk-toggleable__control:checked~label.sk-toggleable__label-arrow:before {content: \"▾\";}#sk-container-id-2 div.sk-estimator input.sk-toggleable__control:checked~label.sk-toggleable__label {background-color: #d4ebff;}#sk-container-id-2 div.sk-label input.sk-toggleable__control:checked~label.sk-toggleable__label {background-color: #d4ebff;}#sk-container-id-2 input.sk-hidden--visually {border: 0;clip: rect(1px 1px 1px 1px);clip: rect(1px, 1px, 1px, 1px);height: 1px;margin: -1px;overflow: hidden;padding: 0;position: absolute;width: 1px;}#sk-container-id-2 div.sk-estimator {font-family: monospace;background-color: #f0f8ff;border: 1px dotted black;border-radius: 0.25em;box-sizing: border-box;margin-bottom: 0.5em;}#sk-container-id-2 div.sk-estimator:hover {background-color: #d4ebff;}#sk-container-id-2 div.sk-parallel-item::after {content: \"\";width: 100%;border-bottom: 1px solid gray;flex-grow: 1;}#sk-container-id-2 div.sk-label:hover label.sk-toggleable__label {background-color: #d4ebff;}#sk-container-id-2 div.sk-serial::before {content: \"\";position: absolute;border-left: 1px solid gray;box-sizing: border-box;top: 0;bottom: 0;left: 50%;z-index: 0;}#sk-container-id-2 div.sk-serial {display: flex;flex-direction: column;align-items: center;background-color: white;padding-right: 0.2em;padding-left: 0.2em;position: relative;}#sk-container-id-2 div.sk-item {position: relative;z-index: 1;}#sk-container-id-2 div.sk-parallel {display: flex;align-items: stretch;justify-content: center;background-color: white;position: relative;}#sk-container-id-2 div.sk-item::before, #sk-container-id-2 div.sk-parallel-item::before {content: \"\";position: absolute;border-left: 1px solid gray;box-sizing: border-box;top: 0;bottom: 0;left: 50%;z-index: -1;}#sk-container-id-2 div.sk-parallel-item {display: flex;flex-direction: column;z-index: 1;position: relative;background-color: white;}#sk-container-id-2 div.sk-parallel-item:first-child::after {align-self: flex-end;width: 50%;}#sk-container-id-2 div.sk-parallel-item:last-child::after {align-self: flex-start;width: 50%;}#sk-container-id-2 div.sk-parallel-item:only-child::after {width: 0;}#sk-container-id-2 div.sk-dashed-wrapped {border: 1px dashed gray;margin: 0 0.4em 0.5em 0.4em;box-sizing: border-box;padding-bottom: 0.4em;background-color: white;}#sk-container-id-2 div.sk-label label {font-family: monospace;font-weight: bold;display: inline-block;line-height: 1.2em;}#sk-container-id-2 div.sk-label-container {text-align: center;}#sk-container-id-2 div.sk-container {/* jupyter's `normalize.less` sets `[hidden] { display: none; }` but bootstrap.min.css set `[hidden] { display: none !important; }` so we also need the `!important` here to be able to override the default hidden behavior on the sphinx rendered scikit-learn.org. See: https://github.com/scikit-learn/scikit-learn/issues/21755 */display: inline-block !important;position: relative;}#sk-container-id-2 div.sk-text-repr-fallback {display: none;}</style><div id=\"sk-container-id-2\" class=\"sk-top-container\"><div class=\"sk-text-repr-fallback\"><pre>LogisticRegression()</pre><b>In a Jupyter environment, please rerun this cell to show the HTML representation or trust the notebook. <br />On GitHub, the HTML representation is unable to render, please try loading this page with nbviewer.org.</b></div><div class=\"sk-container\" hidden><div class=\"sk-item\"><div class=\"sk-estimator sk-toggleable\"><input class=\"sk-toggleable__control sk-hidden--visually\" id=\"sk-estimator-id-2\" type=\"checkbox\" checked><label for=\"sk-estimator-id-2\" class=\"sk-toggleable__label sk-toggleable__label-arrow\">LogisticRegression</label><div class=\"sk-toggleable__content\"><pre>LogisticRegression()</pre></div></div></div></div></div>"
      ],
      "text/plain": [
       "LogisticRegression()"
      ]
     },
     "execution_count": 36,
     "metadata": {},
     "output_type": "execute_result"
    }
   ],
   "source": [
    "# Build a logistic regression model\n",
    "model_lr = LogisticRegression(solver='lbfgs', multi_class='auto') #for multi-class target\n",
    "model_lr.fit(X_train, Y_train)"
   ]
  },
  {
   "cell_type": "markdown",
   "metadata": {
    "id": "Wtq42Wxvok6b"
   },
   "source": [
    "### Check the models\n",
    "At this stage, we can check how well the models performed on the training data itself, and compute the accuracy score for each model. The accuracy score is:\n",
    "\n",
    "$$\n",
    "AccuracyScore = \\frac{NumberOfCorrectPredictions}{TotalNumberOfPredictions}\n",
    "$$\n",
    "\n",
    "Let's compute the accuracy score for each of model based on the training data:"
   ]
  },
  {
   "cell_type": "code",
   "execution_count": 37,
   "metadata": {
    "colab": {
     "base_uri": "https://localhost:8080/"
    },
    "id": "EVOvuK8Yok6c",
    "outputId": "a767e69f-1fa0-4634-962e-3644d2314268"
   },
   "outputs": [
    {
     "name": "stdout",
     "output_type": "stream",
     "text": [
      "DecisionTreeClassifier 0.8682170542635659\n"
     ]
    }
   ],
   "source": [
    "# Check the model performance with the training data\n",
    "predictions_dt = model_dt.predict(X_train)\n",
    "print(\"DecisionTreeClassifier\", accuracy_score(Y_train, predictions_dt))"
   ]
  },
  {
   "cell_type": "code",
   "execution_count": 38,
   "metadata": {
    "colab": {
     "base_uri": "https://localhost:8080/"
    },
    "id": "fkAHQFTook6c",
    "outputId": "7468f286-f851-4bf8-82a1-9ec2e6e12936",
    "scrolled": true
   },
   "outputs": [
    {
     "name": "stdout",
     "output_type": "stream",
     "text": [
      "LogisticRegression 0.8217054263565892\n"
     ]
    }
   ],
   "source": [
    "# Check the model performance with the training data\n",
    "predictions_lr = model_lr.predict(X_train)\n",
    "print(\"LogisticRegression\", accuracy_score(Y_train, predictions_lr))"
   ]
  },
  {
   "cell_type": "markdown",
   "metadata": {
    "id": "lFqusdPfok6c"
   },
   "source": [
    "Based on the **training data**, the decision tree has done a great job, getting 100% of the classifications right! However, we can't rely on testing with our training data (remember, we are data scientists). So, we need to evaluate the model using the **test data**."
   ]
  },
  {
   "cell_type": "markdown",
   "metadata": {
    "id": "cRvWRVaXok6c"
   },
   "source": [
    "## Evaluate the models\n",
    "Now we evaluate the models by testing with the test set:"
   ]
  },
  {
   "cell_type": "code",
   "execution_count": 39,
   "metadata": {
    "colab": {
     "base_uri": "https://localhost:8080/"
    },
    "id": "_Q3yh84Bok6d",
    "outputId": "b112856c-b30d-4593-840b-bf7d5c05923f"
   },
   "outputs": [
    {
     "name": "stdout",
     "output_type": "stream",
     "text": [
      "DecisionTreeClassifier 0.6923076923076923\n"
     ]
    }
   ],
   "source": [
    "predictions_dt = model_dt.predict(X_test)\n",
    "print(\"DecisionTreeClassifier\", accuracy_score(Y_test, predictions_dt))"
   ]
  },
  {
   "cell_type": "code",
   "execution_count": 40,
   "metadata": {
    "colab": {
     "base_uri": "https://localhost:8080/"
    },
    "id": "sHGHWqqiok6d",
    "outputId": "ba88acba-78bc-4f71-83a2-ac44051e08ce"
   },
   "outputs": [
    {
     "name": "stdout",
     "output_type": "stream",
     "text": [
      "LogisticRegression 0.7384615384615385\n"
     ]
    }
   ],
   "source": [
    "predictions_lr = model_lr.predict(X_test)\n",
    "print(\"LogisticRegression\", accuracy_score(Y_test, predictions_lr))"
   ]
  },
  {
   "cell_type": "markdown",
   "metadata": {
    "id": "Jof5C3TgJ3P6"
   },
   "source": [
    "0.7384615384615385"
   ]
  },
  {
   "cell_type": "markdown",
   "metadata": {
    "id": "qngqju9jok6d"
   },
   "source": [
    "The tables have turned! Logistic regression shows a better accuracy score on the test data, despite the fact that the decision tree performed better on the test data."
   ]
  },
  {
   "cell_type": "markdown",
   "metadata": {
    "id": "-CDYT2Rxok6d"
   },
   "source": [
    "<div class=\"alert alert-danger\">\n",
    "\n",
    "**Warning:** Decision trees tend to suffer from this problem - doing well on training data, but performing poorly on test data\n",
    "\n",
    "</div>"
   ]
  },
  {
   "cell_type": "markdown",
   "metadata": {
    "id": "-CBD3KG6ok6d"
   },
   "source": [
    "### Choose the best performing model\n",
    "Logistic Regression model will be our chosen model as it performed the best."
   ]
  },
  {
   "cell_type": "code",
   "execution_count": 41,
   "metadata": {
    "id": "kKyostcWok6d"
   },
   "outputs": [],
   "source": [
    "model = model_lr"
   ]
  },
  {
   "cell_type": "markdown",
   "metadata": {
    "id": "Qkq9hRNsok6d"
   },
   "source": [
    "<div class=\"alert alert-info\">\n",
    "\n",
    "The accuracy score is just one metric for evaluating classification models. However, it can be quite a crude measure.\n",
    "</div>"
   ]
  },
  {
   "cell_type": "markdown",
   "metadata": {
    "id": "aAQktDMsok6e"
   },
   "source": [
    "## Iterate!\n",
    "At this point, you should review your code and process and see what improvements could be made.\n",
    "\n",
    "At this stage, you want to improve the accuracy of the created model. You may want to go back and do some more feature engineering:"
   ]
  },
  {
   "cell_type": "markdown",
   "metadata": {
    "id": "NSMTh8sPok6e"
   },
   "source": [
    "<img src=https://user.oc-static.com/upload/2019/10/01/15699225328706_proces2.png width=800>"
   ]
  },
  {
   "cell_type": "markdown",
   "metadata": {
    "id": "ETyoHWX7ok6e"
   },
   "source": [
    "Or revisit cleanup:\n",
    "\n",
    "<img src=https://user.oc-static.com/upload/2019/10/01/1569922551848_proces3.png width=800>"
   ]
  },
  {
   "cell_type": "markdown",
   "metadata": {
    "id": "0_dpIjA1ok6e"
   },
   "source": [
    "Or try some different algorithms or tune the algorithms:\n",
    "<img src=https://user.oc-static.com/upload/2019/10/01/15699225657251_proces4.png width=800>"
   ]
  },
  {
   "cell_type": "markdown",
   "metadata": {
    "id": "l6y86ZLPok6e"
   },
   "source": [
    "## Inspect the models\n",
    "\n",
    "For a better understanding, you can look inside the models. Decision trees and logistic regression use very different ways of building models, so when you look under the hood, you see quite different things!\n",
    "\n",
    "Here is the decision tree created for this exercise:"
   ]
  },
  {
   "cell_type": "code",
   "execution_count": 42,
   "metadata": {
    "id": "TxT7a5czpeVq"
   },
   "outputs": [],
   "source": [
    "import graphviz"
   ]
  },
  {
   "cell_type": "code",
   "execution_count": 43,
   "metadata": {
    "colab": {
     "base_uri": "https://localhost:8080/",
     "height": 599
    },
    "id": "bYgalnIOok6e",
    "outputId": "3d0f94ae-a88e-46d9-a896-1f04257fa9aa"
   },
   "outputs": [
    {
     "data": {
      "image/svg+xml": [
       "<?xml version=\"1.0\" encoding=\"UTF-8\" standalone=\"no\"?>\n",
       "<!DOCTYPE svg PUBLIC \"-//W3C//DTD SVG 1.1//EN\"\n",
       " \"http://www.w3.org/Graphics/SVG/1.1/DTD/svg11.dtd\">\n",
       "<!-- Generated by graphviz version 2.50.0 (0)\n",
       " -->\n",
       "<!-- Title: Tree Pages: 1 -->\n",
       "<svg width=\"597pt\" height=\"433pt\"\n",
       " viewBox=\"0.00 0.00 596.50 433.00\" xmlns=\"http://www.w3.org/2000/svg\" xmlns:xlink=\"http://www.w3.org/1999/xlink\">\n",
       "<g id=\"graph0\" class=\"graph\" transform=\"scale(1 1) rotate(0) translate(4 429)\">\n",
       "<title>Tree</title>\n",
       "<polygon fill=\"white\" stroke=\"transparent\" points=\"-4,4 -4,-429 592.5,-429 592.5,4 -4,4\"/>\n",
       "<!-- 0 -->\n",
       "<g id=\"node1\" class=\"node\">\n",
       "<title>0</title>\n",
       "<path fill=\"#effdf5\" stroke=\"black\" d=\"M376,-425C376,-425 268,-425 268,-425 262,-425 256,-419 256,-413 256,-413 256,-354 256,-354 256,-348 262,-342 268,-342 268,-342 376,-342 376,-342 382,-342 388,-348 388,-354 388,-354 388,-413 388,-413 388,-419 382,-425 376,-425\"/>\n",
       "<text text-anchor=\"start\" x=\"268.5\" y=\"-409.8\" font-family=\"Helvetica,sans-Serif\" font-size=\"14.00\">sanitation ≤ 0.728</text>\n",
       "<text text-anchor=\"start\" x=\"286.5\" y=\"-394.8\" font-family=\"Helvetica,sans-Serif\" font-size=\"14.00\">gini = 0.663</text>\n",
       "<text text-anchor=\"start\" x=\"277\" y=\"-379.8\" font-family=\"Helvetica,sans-Serif\" font-size=\"14.00\">samples = 129</text>\n",
       "<text text-anchor=\"start\" x=\"264\" y=\"-364.8\" font-family=\"Helvetica,sans-Serif\" font-size=\"14.00\">value = [38, 49, 42]</text>\n",
       "<text text-anchor=\"start\" x=\"294.5\" y=\"-349.8\" font-family=\"Helvetica,sans-Serif\" font-size=\"14.00\">class = L</text>\n",
       "</g>\n",
       "<!-- 1 -->\n",
       "<g id=\"node2\" class=\"node\">\n",
       "<title>1</title>\n",
       "<path fill=\"#53e891\" stroke=\"black\" d=\"M298.5,-306C298.5,-306 205.5,-306 205.5,-306 199.5,-306 193.5,-300 193.5,-294 193.5,-294 193.5,-235 193.5,-235 193.5,-229 199.5,-223 205.5,-223 205.5,-223 298.5,-223 298.5,-223 304.5,-223 310.5,-229 310.5,-235 310.5,-235 310.5,-294 310.5,-294 310.5,-300 304.5,-306 298.5,-306\"/>\n",
       "<text text-anchor=\"start\" x=\"211\" y=\"-290.8\" font-family=\"Helvetica,sans-Serif\" font-size=\"14.00\">water ≤ 0.897</text>\n",
       "<text text-anchor=\"start\" x=\"216.5\" y=\"-275.8\" font-family=\"Helvetica,sans-Serif\" font-size=\"14.00\">gini = 0.204</text>\n",
       "<text text-anchor=\"start\" x=\"211\" y=\"-260.8\" font-family=\"Helvetica,sans-Serif\" font-size=\"14.00\">samples = 52</text>\n",
       "<text text-anchor=\"start\" x=\"201.5\" y=\"-245.8\" font-family=\"Helvetica,sans-Serif\" font-size=\"14.00\">value = [0, 46, 6]</text>\n",
       "<text text-anchor=\"start\" x=\"224.5\" y=\"-230.8\" font-family=\"Helvetica,sans-Serif\" font-size=\"14.00\">class = L</text>\n",
       "</g>\n",
       "<!-- 0&#45;&gt;1 -->\n",
       "<g id=\"edge1\" class=\"edge\">\n",
       "<title>0&#45;&gt;1</title>\n",
       "<path fill=\"none\" stroke=\"black\" d=\"M297.71,-341.91C292.45,-333.1 286.82,-323.7 281.38,-314.61\"/>\n",
       "<polygon fill=\"black\" stroke=\"black\" points=\"284.38,-312.81 276.24,-306.02 278.37,-316.4 284.38,-312.81\"/>\n",
       "<text text-anchor=\"middle\" x=\"270.15\" y=\"-326.57\" font-family=\"Helvetica,sans-Serif\" font-size=\"14.00\">True</text>\n",
       "</g>\n",
       "<!-- 6 -->\n",
       "<g id=\"node7\" class=\"node\">\n",
       "<title>6</title>\n",
       "<path fill=\"#fef9f5\" stroke=\"black\" d=\"M443.5,-306C443.5,-306 340.5,-306 340.5,-306 334.5,-306 328.5,-300 328.5,-294 328.5,-294 328.5,-235 328.5,-235 328.5,-229 334.5,-223 340.5,-223 340.5,-223 443.5,-223 443.5,-223 449.5,-223 455.5,-229 455.5,-235 455.5,-235 455.5,-294 455.5,-294 455.5,-300 449.5,-306 443.5,-306\"/>\n",
       "<text text-anchor=\"start\" x=\"336.5\" y=\"-290.8\" font-family=\"Helvetica,sans-Serif\" font-size=\"14.00\">happiness ≤ 0.744</text>\n",
       "<text text-anchor=\"start\" x=\"356.5\" y=\"-275.8\" font-family=\"Helvetica,sans-Serif\" font-size=\"14.00\">gini = 0.536</text>\n",
       "<text text-anchor=\"start\" x=\"351\" y=\"-260.8\" font-family=\"Helvetica,sans-Serif\" font-size=\"14.00\">samples = 77</text>\n",
       "<text text-anchor=\"start\" x=\"337.5\" y=\"-245.8\" font-family=\"Helvetica,sans-Serif\" font-size=\"14.00\">value = [38, 3, 36]</text>\n",
       "<text text-anchor=\"start\" x=\"363.5\" y=\"-230.8\" font-family=\"Helvetica,sans-Serif\" font-size=\"14.00\">class = H</text>\n",
       "</g>\n",
       "<!-- 0&#45;&gt;6 -->\n",
       "<g id=\"edge6\" class=\"edge\">\n",
       "<title>0&#45;&gt;6</title>\n",
       "<path fill=\"none\" stroke=\"black\" d=\"M346.29,-341.91C351.55,-333.1 357.18,-323.7 362.62,-314.61\"/>\n",
       "<polygon fill=\"black\" stroke=\"black\" points=\"365.63,-316.4 367.76,-306.02 359.62,-312.81 365.63,-316.4\"/>\n",
       "<text text-anchor=\"middle\" x=\"373.85\" y=\"-326.57\" font-family=\"Helvetica,sans-Serif\" font-size=\"14.00\">False</text>\n",
       "</g>\n",
       "<!-- 2 -->\n",
       "<g id=\"node3\" class=\"node\">\n",
       "<title>2</title>\n",
       "<path fill=\"#42e686\" stroke=\"black\" d=\"M167.5,-187C167.5,-187 74.5,-187 74.5,-187 68.5,-187 62.5,-181 62.5,-175 62.5,-175 62.5,-116 62.5,-116 62.5,-110 68.5,-104 74.5,-104 74.5,-104 167.5,-104 167.5,-104 173.5,-104 179.5,-110 179.5,-116 179.5,-116 179.5,-175 179.5,-175 179.5,-181 173.5,-187 167.5,-187\"/>\n",
       "<text text-anchor=\"start\" x=\"87.5\" y=\"-171.8\" font-family=\"Helvetica,sans-Serif\" font-size=\"14.00\">hiv ≤ 0.001</text>\n",
       "<text text-anchor=\"start\" x=\"89\" y=\"-156.8\" font-family=\"Helvetica,sans-Serif\" font-size=\"14.00\">gini = 0.08</text>\n",
       "<text text-anchor=\"start\" x=\"80\" y=\"-141.8\" font-family=\"Helvetica,sans-Serif\" font-size=\"14.00\">samples = 48</text>\n",
       "<text text-anchor=\"start\" x=\"70.5\" y=\"-126.8\" font-family=\"Helvetica,sans-Serif\" font-size=\"14.00\">value = [0, 46, 2]</text>\n",
       "<text text-anchor=\"start\" x=\"93.5\" y=\"-111.8\" font-family=\"Helvetica,sans-Serif\" font-size=\"14.00\">class = L</text>\n",
       "</g>\n",
       "<!-- 1&#45;&gt;2 -->\n",
       "<g id=\"edge2\" class=\"edge\">\n",
       "<title>1&#45;&gt;2</title>\n",
       "<path fill=\"none\" stroke=\"black\" d=\"M206.55,-222.91C196.08,-213.56 184.86,-203.54 174.1,-193.93\"/>\n",
       "<polygon fill=\"black\" stroke=\"black\" points=\"176.16,-191.07 166.37,-187.02 171.5,-196.29 176.16,-191.07\"/>\n",
       "</g>\n",
       "<!-- 5 -->\n",
       "<g id=\"node6\" class=\"node\">\n",
       "<title>5</title>\n",
       "<path fill=\"#8139e5\" stroke=\"black\" d=\"M296,-179.5C296,-179.5 210,-179.5 210,-179.5 204,-179.5 198,-173.5 198,-167.5 198,-167.5 198,-123.5 198,-123.5 198,-117.5 204,-111.5 210,-111.5 210,-111.5 296,-111.5 296,-111.5 302,-111.5 308,-117.5 308,-123.5 308,-123.5 308,-167.5 308,-167.5 308,-173.5 302,-179.5 296,-179.5\"/>\n",
       "<text text-anchor=\"start\" x=\"225\" y=\"-164.3\" font-family=\"Helvetica,sans-Serif\" font-size=\"14.00\">gini = 0.0</text>\n",
       "<text text-anchor=\"start\" x=\"215.5\" y=\"-149.3\" font-family=\"Helvetica,sans-Serif\" font-size=\"14.00\">samples = 4</text>\n",
       "<text text-anchor=\"start\" x=\"206\" y=\"-134.3\" font-family=\"Helvetica,sans-Serif\" font-size=\"14.00\">value = [0, 0, 4]</text>\n",
       "<text text-anchor=\"start\" x=\"223.5\" y=\"-119.3\" font-family=\"Helvetica,sans-Serif\" font-size=\"14.00\">class = M</text>\n",
       "</g>\n",
       "<!-- 1&#45;&gt;5 -->\n",
       "<g id=\"edge5\" class=\"edge\">\n",
       "<title>1&#45;&gt;5</title>\n",
       "<path fill=\"none\" stroke=\"black\" d=\"M252.35,-222.91C252.44,-212.2 252.54,-200.62 252.63,-189.78\"/>\n",
       "<polygon fill=\"black\" stroke=\"black\" points=\"256.13,-189.7 252.72,-179.67 249.13,-189.64 256.13,-189.7\"/>\n",
       "</g>\n",
       "<!-- 3 -->\n",
       "<g id=\"node4\" class=\"node\">\n",
       "<title>3</title>\n",
       "<path fill=\"#ffffff\" stroke=\"black\" d=\"M98,-68C98,-68 12,-68 12,-68 6,-68 0,-62 0,-56 0,-56 0,-12 0,-12 0,-6 6,0 12,0 12,0 98,0 98,0 104,0 110,-6 110,-12 110,-12 110,-56 110,-56 110,-62 104,-68 98,-68\"/>\n",
       "<text text-anchor=\"start\" x=\"27\" y=\"-52.8\" font-family=\"Helvetica,sans-Serif\" font-size=\"14.00\">gini = 0.5</text>\n",
       "<text text-anchor=\"start\" x=\"17.5\" y=\"-37.8\" font-family=\"Helvetica,sans-Serif\" font-size=\"14.00\">samples = 4</text>\n",
       "<text text-anchor=\"start\" x=\"8\" y=\"-22.8\" font-family=\"Helvetica,sans-Serif\" font-size=\"14.00\">value = [0, 2, 2]</text>\n",
       "<text text-anchor=\"start\" x=\"27.5\" y=\"-7.8\" font-family=\"Helvetica,sans-Serif\" font-size=\"14.00\">class = L</text>\n",
       "</g>\n",
       "<!-- 2&#45;&gt;3 -->\n",
       "<g id=\"edge3\" class=\"edge\">\n",
       "<title>2&#45;&gt;3</title>\n",
       "<path fill=\"none\" stroke=\"black\" d=\"M96.42,-103.73C91.15,-94.97 85.56,-85.7 80.26,-76.91\"/>\n",
       "<polygon fill=\"black\" stroke=\"black\" points=\"83.23,-75.06 75.07,-68.3 77.24,-78.67 83.23,-75.06\"/>\n",
       "</g>\n",
       "<!-- 4 -->\n",
       "<g id=\"node5\" class=\"node\">\n",
       "<title>4</title>\n",
       "<path fill=\"#39e581\" stroke=\"black\" d=\"M233.5,-68C233.5,-68 140.5,-68 140.5,-68 134.5,-68 128.5,-62 128.5,-56 128.5,-56 128.5,-12 128.5,-12 128.5,-6 134.5,0 140.5,0 140.5,0 233.5,0 233.5,0 239.5,0 245.5,-6 245.5,-12 245.5,-12 245.5,-56 245.5,-56 245.5,-62 239.5,-68 233.5,-68\"/>\n",
       "<text text-anchor=\"start\" x=\"159\" y=\"-52.8\" font-family=\"Helvetica,sans-Serif\" font-size=\"14.00\">gini = 0.0</text>\n",
       "<text text-anchor=\"start\" x=\"146\" y=\"-37.8\" font-family=\"Helvetica,sans-Serif\" font-size=\"14.00\">samples = 44</text>\n",
       "<text text-anchor=\"start\" x=\"136.5\" y=\"-22.8\" font-family=\"Helvetica,sans-Serif\" font-size=\"14.00\">value = [0, 44, 0]</text>\n",
       "<text text-anchor=\"start\" x=\"159.5\" y=\"-7.8\" font-family=\"Helvetica,sans-Serif\" font-size=\"14.00\">class = L</text>\n",
       "</g>\n",
       "<!-- 2&#45;&gt;4 -->\n",
       "<g id=\"edge4\" class=\"edge\">\n",
       "<title>2&#45;&gt;4</title>\n",
       "<path fill=\"none\" stroke=\"black\" d=\"M145.58,-103.73C150.85,-94.97 156.44,-85.7 161.74,-76.91\"/>\n",
       "<polygon fill=\"black\" stroke=\"black\" points=\"164.76,-78.67 166.93,-68.3 158.77,-75.06 164.76,-78.67\"/>\n",
       "</g>\n",
       "<!-- 7 -->\n",
       "<g id=\"node8\" class=\"node\">\n",
       "<title>7</title>\n",
       "<path fill=\"#c29ff2\" stroke=\"black\" d=\"M441.5,-187C441.5,-187 340.5,-187 340.5,-187 334.5,-187 328.5,-181 328.5,-175 328.5,-175 328.5,-116 328.5,-116 328.5,-110 334.5,-104 340.5,-104 340.5,-104 441.5,-104 441.5,-104 447.5,-104 453.5,-110 453.5,-116 453.5,-116 453.5,-175 453.5,-175 453.5,-181 447.5,-187 441.5,-187\"/>\n",
       "<text text-anchor=\"start\" x=\"337.5\" y=\"-171.8\" font-family=\"Helvetica,sans-Serif\" font-size=\"14.00\">sanitation ≤ 0.959</text>\n",
       "<text text-anchor=\"start\" x=\"355.5\" y=\"-156.8\" font-family=\"Helvetica,sans-Serif\" font-size=\"14.00\">gini = 0.492</text>\n",
       "<text text-anchor=\"start\" x=\"350\" y=\"-141.8\" font-family=\"Helvetica,sans-Serif\" font-size=\"14.00\">samples = 56</text>\n",
       "<text text-anchor=\"start\" x=\"336.5\" y=\"-126.8\" font-family=\"Helvetica,sans-Serif\" font-size=\"14.00\">value = [17, 3, 36]</text>\n",
       "<text text-anchor=\"start\" x=\"361.5\" y=\"-111.8\" font-family=\"Helvetica,sans-Serif\" font-size=\"14.00\">class = M</text>\n",
       "</g>\n",
       "<!-- 6&#45;&gt;7 -->\n",
       "<g id=\"edge7\" class=\"edge\">\n",
       "<title>6&#45;&gt;7</title>\n",
       "<path fill=\"none\" stroke=\"black\" d=\"M391.65,-222.91C391.58,-214.65 391.51,-205.86 391.43,-197.3\"/>\n",
       "<polygon fill=\"black\" stroke=\"black\" points=\"394.93,-196.99 391.35,-187.02 387.93,-197.05 394.93,-196.99\"/>\n",
       "</g>\n",
       "<!-- 10 -->\n",
       "<g id=\"node11\" class=\"node\">\n",
       "<title>10</title>\n",
       "<path fill=\"#e58139\" stroke=\"black\" d=\"M576.5,-179.5C576.5,-179.5 483.5,-179.5 483.5,-179.5 477.5,-179.5 471.5,-173.5 471.5,-167.5 471.5,-167.5 471.5,-123.5 471.5,-123.5 471.5,-117.5 477.5,-111.5 483.5,-111.5 483.5,-111.5 576.5,-111.5 576.5,-111.5 582.5,-111.5 588.5,-117.5 588.5,-123.5 588.5,-123.5 588.5,-167.5 588.5,-167.5 588.5,-173.5 582.5,-179.5 576.5,-179.5\"/>\n",
       "<text text-anchor=\"start\" x=\"502\" y=\"-164.3\" font-family=\"Helvetica,sans-Serif\" font-size=\"14.00\">gini = 0.0</text>\n",
       "<text text-anchor=\"start\" x=\"489\" y=\"-149.3\" font-family=\"Helvetica,sans-Serif\" font-size=\"14.00\">samples = 21</text>\n",
       "<text text-anchor=\"start\" x=\"479.5\" y=\"-134.3\" font-family=\"Helvetica,sans-Serif\" font-size=\"14.00\">value = [21, 0, 0]</text>\n",
       "<text text-anchor=\"start\" x=\"501.5\" y=\"-119.3\" font-family=\"Helvetica,sans-Serif\" font-size=\"14.00\">class = H</text>\n",
       "</g>\n",
       "<!-- 6&#45;&gt;10 -->\n",
       "<g id=\"edge10\" class=\"edge\">\n",
       "<title>6&#45;&gt;10</title>\n",
       "<path fill=\"none\" stroke=\"black\" d=\"M439.88,-222.91C453.8,-211.1 469,-198.22 482.88,-186.45\"/>\n",
       "<polygon fill=\"black\" stroke=\"black\" points=\"485.52,-188.8 490.88,-179.67 480.99,-183.46 485.52,-188.8\"/>\n",
       "</g>\n",
       "<!-- 8 -->\n",
       "<g id=\"node9\" class=\"node\">\n",
       "<title>8</title>\n",
       "<path fill=\"#9a61ea\" stroke=\"black\" d=\"M401.5,-68C401.5,-68 308.5,-68 308.5,-68 302.5,-68 296.5,-62 296.5,-56 296.5,-56 296.5,-12 296.5,-12 296.5,-6 302.5,0 308.5,0 308.5,0 401.5,0 401.5,0 407.5,0 413.5,-6 413.5,-12 413.5,-12 413.5,-56 413.5,-56 413.5,-62 407.5,-68 401.5,-68\"/>\n",
       "<text text-anchor=\"start\" x=\"319.5\" y=\"-52.8\" font-family=\"Helvetica,sans-Serif\" font-size=\"14.00\">gini = 0.314</text>\n",
       "<text text-anchor=\"start\" x=\"314\" y=\"-37.8\" font-family=\"Helvetica,sans-Serif\" font-size=\"14.00\">samples = 33</text>\n",
       "<text text-anchor=\"start\" x=\"304.5\" y=\"-22.8\" font-family=\"Helvetica,sans-Serif\" font-size=\"14.00\">value = [3, 3, 27]</text>\n",
       "<text text-anchor=\"start\" x=\"325.5\" y=\"-7.8\" font-family=\"Helvetica,sans-Serif\" font-size=\"14.00\">class = M</text>\n",
       "</g>\n",
       "<!-- 7&#45;&gt;8 -->\n",
       "<g id=\"edge8\" class=\"edge\">\n",
       "<title>7&#45;&gt;8</title>\n",
       "<path fill=\"none\" stroke=\"black\" d=\"M377.59,-103.73C374.84,-95.34 371.92,-86.47 369.14,-78.01\"/>\n",
       "<polygon fill=\"black\" stroke=\"black\" points=\"372.4,-76.71 365.95,-68.3 365.75,-78.89 372.4,-76.71\"/>\n",
       "</g>\n",
       "<!-- 9 -->\n",
       "<g id=\"node10\" class=\"node\">\n",
       "<title>9</title>\n",
       "<path fill=\"#f6d2b8\" stroke=\"black\" d=\"M536.5,-68C536.5,-68 443.5,-68 443.5,-68 437.5,-68 431.5,-62 431.5,-56 431.5,-56 431.5,-12 431.5,-12 431.5,-6 437.5,0 443.5,0 443.5,0 536.5,0 536.5,0 542.5,0 548.5,-6 548.5,-12 548.5,-12 548.5,-56 548.5,-56 548.5,-62 542.5,-68 536.5,-68\"/>\n",
       "<text text-anchor=\"start\" x=\"454.5\" y=\"-52.8\" font-family=\"Helvetica,sans-Serif\" font-size=\"14.00\">gini = 0.476</text>\n",
       "<text text-anchor=\"start\" x=\"449\" y=\"-37.8\" font-family=\"Helvetica,sans-Serif\" font-size=\"14.00\">samples = 23</text>\n",
       "<text text-anchor=\"start\" x=\"439.5\" y=\"-22.8\" font-family=\"Helvetica,sans-Serif\" font-size=\"14.00\">value = [14, 0, 9]</text>\n",
       "<text text-anchor=\"start\" x=\"461.5\" y=\"-7.8\" font-family=\"Helvetica,sans-Serif\" font-size=\"14.00\">class = H</text>\n",
       "</g>\n",
       "<!-- 7&#45;&gt;9 -->\n",
       "<g id=\"edge9\" class=\"edge\">\n",
       "<title>7&#45;&gt;9</title>\n",
       "<path fill=\"none\" stroke=\"black\" d=\"M427.86,-103.73C436.11,-94.61 444.86,-84.93 453.11,-75.81\"/>\n",
       "<polygon fill=\"black\" stroke=\"black\" points=\"455.78,-78.06 459.89,-68.3 450.59,-73.37 455.78,-78.06\"/>\n",
       "</g>\n",
       "</g>\n",
       "</svg>\n"
      ],
      "text/plain": [
       "<graphviz.sources.Source at 0x1fbf74229b0>"
      ]
     },
     "execution_count": 43,
     "metadata": {},
     "output_type": "execute_result"
    }
   ],
   "source": [
    "dot_data = tree.export_graphviz(model_dt,\n",
    "                                out_file=None,\n",
    "                                feature_names=X.columns,\n",
    "                                class_names=model.classes_,\n",
    "                                filled=True,\n",
    "                                rounded=True,\n",
    "                                special_characters=True)\n",
    "\n",
    "graph = graphviz.Source(dot_data, format = 'png')\n",
    "graph.render(\"Decision_tree_graph\")\n",
    "graph"
   ]
  },
  {
   "cell_type": "markdown",
   "metadata": {
    "id": "b-3p9fWVok6f"
   },
   "source": [
    "We can also display the feature importance."
   ]
  },
  {
   "cell_type": "code",
   "execution_count": 44,
   "metadata": {
    "id": "Zyvjwt0cok6f"
   },
   "outputs": [],
   "source": [
    "def decisionTreeSummary(model, column_names):\n",
    "    '''Show a summary of the trained decision tree model'''\n",
    "\n",
    "    # Plot the feature importances as bars\n",
    "    fig = plt.figure(figsize=(8,len(column_names)/3))\n",
    "    fig.suptitle('Decision tree feature importance', fontsize=16)\n",
    "    rects = plt.barh(column_names, model.feature_importances_, color=\"khaki\")\n",
    "\n",
    "    # Annotate the bars with the feature importance values\n",
    "    for rect in rects:\n",
    "        width = round(rect.get_width(),4)\n",
    "        plt.gca().annotate('  {}  '.format(width),\n",
    "                    xy=(width, rect.get_y()),\n",
    "                    xytext=(0,2),\n",
    "                    textcoords=\"offset points\",\n",
    "                    ha='left', va='bottom')"
   ]
  },
  {
   "cell_type": "code",
   "execution_count": 45,
   "metadata": {
    "colab": {
     "base_uri": "https://localhost:8080/",
     "height": 321
    },
    "id": "NvmgjRJmok6f",
    "outputId": "d4c05ebb-b26b-4315-eaec-227ec0c26cf8"
   },
   "outputs": [
    {
     "data": {
      "image/png": "[encoded data removed]",
      "text/plain": [
       "<Figure size 800x300 with 1 Axes>"
      ]
     },
     "metadata": {},
     "output_type": "display_data"
    }
   ],
   "source": [
    "decisionTreeSummary(model_dt, X.columns)"
   ]
  },
  {
   "cell_type": "markdown",
   "metadata": {
    "id": "FHZUwdtlok6f"
   },
   "source": [
    "For logistic regression we can examine the coefficients.  "
   ]
  },
  {
   "cell_type": "markdown",
   "metadata": {
    "id": "4a1RewG9ok6g"
   },
   "source": [
    "And we can plot them:"
   ]
  },
  {
   "cell_type": "code",
   "execution_count": 46,
   "metadata": {
    "id": "ipJcaRs8ok6g"
   },
   "outputs": [],
   "source": [
    "def logisticRegressionSummary(model, column_names):\n",
    "    '''Show a summary of the trained logistic regression model'''\n",
    "\n",
    "    # Get a list of class names\n",
    "    numclasses = len(model.classes_)\n",
    "    if len(model.classes_)==2:\n",
    "        classes =  [model.classes_[1]] # if we have 2 classes, sklearn only shows one set of coefficients\n",
    "    else:\n",
    "        classes = model.classes_\n",
    "\n",
    "    # Create a plot for each class\n",
    "    for i,c in enumerate(classes):\n",
    "        # Plot the coefficients as bars\n",
    "        fig = plt.figure(figsize=(8,len(column_names)/3))\n",
    "        fig.suptitle('Logistic Regression Coefficients for Class ' + str(c), fontsize=16)\n",
    "        rects = plt.barh(column_names, model.coef_[i],color=\"lightblue\")\n",
    "\n",
    "        # Annotate the bars with the coefficient values\n",
    "        for rect in rects:\n",
    "            width = round(rect.get_width(),4)\n",
    "            plt.gca().annotate('  {}  '.format(width),\n",
    "                        xy=(0, rect.get_y()),\n",
    "                        xytext=(0,2),\n",
    "                        textcoords=\"offset points\",\n",
    "                        ha='left' if width<0 else 'right', va='bottom')\n",
    "        plt.show()"
   ]
  },
  {
   "cell_type": "code",
   "execution_count": 47,
   "metadata": {
    "colab": {
     "base_uri": "https://localhost:8080/",
     "height": 929
    },
    "id": "aylBVUccok6g",
    "outputId": "42f78ec6-e5f1-4370-e2d0-8b996f42a7e0"
   },
   "outputs": [
    {
     "data": {
      "image/png": "[encoded data removed]",
      "text/plain": [
       "<Figure size 800x300 with 1 Axes>"
      ]
     },
     "metadata": {},
     "output_type": "display_data"
    },
    {
     "data": {
      "image/png": "[encoded data removed]",
      "text/plain": [
       "<Figure size 800x300 with 1 Axes>"
      ]
     },
     "metadata": {},
     "output_type": "display_data"
    },
    {
     "data": {
      "image/png": "[encoded data removed]",
      "text/plain": [
       "<Figure size 800x300 with 1 Axes>"
      ]
     },
     "metadata": {},
     "output_type": "display_data"
    }
   ],
   "source": [
    "logisticRegressionSummary(model_lr, X.columns)"
   ]
  },
  {
   "cell_type": "markdown",
   "metadata": {
    "id": "xmSW915GCKpy"
   },
   "source": [
    "the logistic regression Coefficients for life expectancy tell us that countries with high sanitation, water and hppiness have more life expectancy then other countries, because the coefficient of water, sanitation and happiness in class H is very high, however they are very low in class L. The decision tree model confirms that too. In addition, the affection of the other features for life expectancy is weak, that's why we can't rely on them.\n",
    "\n",
    "|*Bilarbi, Achref.(2023) Interpretation * | |\n",
    "| :---              |          ---: |"
   ]
  },
  {
   "cell_type": "markdown",
   "metadata": {
    "id": "ho0_zbGqDI4A"
   },
   "source": [
    "Class L,the class of countries with the lowest LE,is highly impacted by the big numbers of fertility & Child mortality and on the major lack of water & sanitation.\n",
    "In fact raising new born babies & children in some very poor conditions such no sanitations and no potable water mean that they are more vunerable to diseases,microbes,viruses(HIV...)..Example of countries: Afghanistan,Burkina Faso...\n",
    "And all these can only increase the deathexpectency, especially by children, which will lead us to a lower LE compared with the other Classes.\n",
    "Speaking of which,Class M, for example has better life conditions compared with L class; we can see high numbers in the water and santitaton numbers on one hand, negative numbers of childmortality on the other hand, which will lead us to a higher LE. Example of countries:Brazil,Belarus...\n",
    "Now, let's take a look back to the L class again; if we compare its other features to the Class M ones, such as foodsupply and income, they are,believe it or not, better. Even happiness is'nt this far behind.we can then understand that these aren't significant numbers(features) to use to compare between these 2 Classes; but it's the total opposite if we consider the H Class.We can even see more clearly,that these M class numbers, are in effect bad, and that's the Gap between the M & H classes.\n",
    "In fact, there is similarities when it comes to water, sanitation and childmortality shape and numbers but happiness, foodsupply and income are much, much higher in the countries with high LE.\n",
    "Example of countries; Luxembourg,Belgium\n",
    "In the end, water and sanitation are essential for living, that's why in the Class L, LE is low.At the same time we need some other goods like happiness and high income to increase a person's LE more.\n",
    "\n",
    "|*Dr.Saidi, Omar.(2023) Interpretation * | |\n",
    "| :---              |          ---: |"
   ]
  },
  {
   "cell_type": "markdown",
   "metadata": {
    "id": "A5-L3L_Ook6g"
   },
   "source": [
    "## Recap\n",
    "\n",
    "* You can choose a machine learning algorithms by **building models with multiple algorithms** and seeing which one performs the best.\n",
    "\n",
    "* Measure the performance of a classification model using an **accuracy score**.\n",
    "\n",
    "* **Iterate** to improve model performance.\n",
    "\n",
    "* Inspect the **feature importance** values to understand which features are most significant in a **decision tree** model.\n",
    "\n",
    "* Inspect the **coefficients** to understand which features are most significant in a **logistic regression** model."
   ]
  }
 ],
 "metadata": {
  "colab": {
   "provenance": []
  },
  "kernelspec": {
   "display_name": "Python 3 (ipykernel)",
   "language": "python",
   "name": "python3"
  },
  "language_info": {
   "codemirror_mode": {
    "name": "ipython",
    "version": 3
   },
   "file_extension": ".py",
   "mimetype": "text/x-python",
   "name": "python",
   "nbconvert_exporter": "python",
   "pygments_lexer": "ipython3",
   "version": "3.10.13"
  }
 },
 "nbformat": 4,
 "nbformat_minor": 1
}
